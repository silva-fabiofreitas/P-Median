{
 "cells": [
  {
   "cell_type": "markdown",
   "metadata": {},
   "source": [
    "# P-Median\n",
    "<img src='../imgs/p_median.bmp' height=300></img>\n",
    "\n",
    "where:  \n",
    "**m** is the number of customers,  \n",
    "**n** is the number of potential facility locations,  \n",
    "**p** is the number of facilities to be opened,  \n",
    "**cᵢⱼ** is the cost of serving customer *i* from facility *j*,  \n",
    "**xᵢⱼ** is a binary decision variable indicating whether customer *i* is served by facility *j*, and  \n",
    "**yⱼ** is a binary decision variable indicating whether facility *j* is opened."
   ]
  },
  {
   "cell_type": "code",
   "execution_count": 257,
   "metadata": {},
   "outputs": [
    {
     "data": {
      "text/html": [
       "<div>\n",
       "<style scoped>\n",
       "    .dataframe tbody tr th:only-of-type {\n",
       "        vertical-align: middle;\n",
       "    }\n",
       "\n",
       "    .dataframe tbody tr th {\n",
       "        vertical-align: top;\n",
       "    }\n",
       "\n",
       "    .dataframe thead th {\n",
       "        text-align: right;\n",
       "    }\n",
       "</style>\n",
       "<table border=\"1\" class=\"dataframe\">\n",
       "  <thead>\n",
       "    <tr style=\"text-align: right;\">\n",
       "      <th></th>\n",
       "      <th>Kurudampalayam</th>\n",
       "      <th>Ashokapuram</th>\n",
       "      <th>Peelamedu</th>\n",
       "      <th>Vellalore</th>\n",
       "      <th>KovaiPudur</th>\n",
       "      <th>Vadavalli</th>\n",
       "    </tr>\n",
       "  </thead>\n",
       "  <tbody>\n",
       "    <tr>\n",
       "      <th>Kurudampalayam</th>\n",
       "      <td>0.0</td>\n",
       "      <td>5.6</td>\n",
       "      <td>17.4</td>\n",
       "      <td>21.8</td>\n",
       "      <td>19.4</td>\n",
       "      <td>11.4</td>\n",
       "    </tr>\n",
       "    <tr>\n",
       "      <th>Ashokapuram</th>\n",
       "      <td>5.6</td>\n",
       "      <td>0.0</td>\n",
       "      <td>11.6</td>\n",
       "      <td>19.6</td>\n",
       "      <td>21.7</td>\n",
       "      <td>13.0</td>\n",
       "    </tr>\n",
       "    <tr>\n",
       "      <th>Peelamedu</th>\n",
       "      <td>17.4</td>\n",
       "      <td>11.6</td>\n",
       "      <td>0.0</td>\n",
       "      <td>8.0</td>\n",
       "      <td>18.3</td>\n",
       "      <td>16.8</td>\n",
       "    </tr>\n",
       "    <tr>\n",
       "      <th>Vellalore</th>\n",
       "      <td>21.8</td>\n",
       "      <td>19.6</td>\n",
       "      <td>8.0</td>\n",
       "      <td>0.0</td>\n",
       "      <td>16.9</td>\n",
       "      <td>20.1</td>\n",
       "    </tr>\n",
       "    <tr>\n",
       "      <th>KovaiPudur</th>\n",
       "      <td>19.4</td>\n",
       "      <td>21.7</td>\n",
       "      <td>18.3</td>\n",
       "      <td>16.9</td>\n",
       "      <td>0.0</td>\n",
       "      <td>13.6</td>\n",
       "    </tr>\n",
       "    <tr>\n",
       "      <th>Vadavalli</th>\n",
       "      <td>11.4</td>\n",
       "      <td>13.0</td>\n",
       "      <td>16.8</td>\n",
       "      <td>20.1</td>\n",
       "      <td>13.6</td>\n",
       "      <td>0.0</td>\n",
       "    </tr>\n",
       "  </tbody>\n",
       "</table>\n",
       "</div>"
      ],
      "text/plain": [
       "                Kurudampalayam   Ashokapuram  Peelamedu  Vellalore  \\\n",
       "Kurudampalayam              0.0          5.6       17.4       21.8   \n",
       "Ashokapuram                 5.6          0.0       11.6       19.6   \n",
       "Peelamedu                  17.4         11.6        0.0        8.0   \n",
       "Vellalore                  21.8         19.6        8.0        0.0   \n",
       "KovaiPudur                 19.4         21.7       18.3       16.9   \n",
       "Vadavalli                  11.4         13.0       16.8       20.1   \n",
       "\n",
       "                KovaiPudur  Vadavalli  \n",
       "Kurudampalayam        19.4       11.4  \n",
       "Ashokapuram           21.7       13.0  \n",
       "Peelamedu             18.3       16.8  \n",
       "Vellalore             16.9       20.1  \n",
       "KovaiPudur             0.0       13.6  \n",
       "Vadavalli             13.6        0.0  "
      ]
     },
     "execution_count": 257,
     "metadata": {},
     "output_type": "execute_result"
    }
   ],
   "source": [
    "# import matrix\n",
    "import pandas as pd\n",
    "from pulp import *\n",
    "import numpy as np\n",
    "\n",
    "df = pd.read_csv('../data/distance.csv', delimiter=';', index_col=0)\n",
    "df\n"
   ]
  },
  {
   "cell_type": "markdown",
   "metadata": {},
   "source": [
    "**Definindo variaveis**"
   ]
  },
  {
   "cell_type": "code",
   "execution_count": 258,
   "metadata": {},
   "outputs": [],
   "source": [
    "location = df.columns.values\n",
    "clients = df.index.values \n",
    "w = [1,1,1,1,1,1]\n",
    "m = df.shape[0] # Nº de clientes\n",
    "n = df.shape[1] # Nº de potenciais facilidades\n",
    "p= 3 # Nº de facilidades   \n",
    "c = df.values\n"
   ]
  },
  {
   "cell_type": "code",
   "execution_count": 259,
   "metadata": {},
   "outputs": [],
   "source": [
    "# Define the problem\n",
    "prob = LpProblem(\"p-median\", LpMinimize)"
   ]
  },
  {
   "cell_type": "code",
   "execution_count": 260,
   "metadata": {},
   "outputs": [],
   "source": [
    "# Define decision variables\n",
    "x = LpVariable.dicts(\"x\", [(i,j) for i in range(m) for j in range(n)], 0, 1, LpBinary)\n",
    "y = LpVariable.dicts(\"y\", [j for j in range(n)], 0, 1, LpBinary)"
   ]
  },
  {
   "cell_type": "code",
   "execution_count": 261,
   "metadata": {},
   "outputs": [],
   "source": [
    "# Define objective function\n",
    "prob += lpSum([c[i][j] * x[(i,j)] * w[i] for i in range(m) for j in range(n)])"
   ]
  },
  {
   "cell_type": "code",
   "execution_count": 262,
   "metadata": {},
   "outputs": [],
   "source": [
    "# Define constraints\n",
    "for i in range(m):\n",
    "    prob += lpSum([x[(i,j)] for j in range(n)]) == 1\n",
    "\n",
    "for i in range(m):\n",
    "    for j in range(n):\n",
    "        prob += x[(i,j)] <= y[j]\n",
    "                 \n",
    "prob += lpSum([y[j] for j in range(n)]) == p"
   ]
  },
  {
   "cell_type": "markdown",
   "metadata": {},
   "source": [
    "The first constraint, <code> for i in range(m): prob += lpSum([x[(i,j)] for j in range(n)]) == 1,</code> ensures that each customer is assigned to exactly one facility. It is expressed by summing over all facilities j and requiring that each customer i is served by exactly one of them.  \n",
    "\n",
    "The second constraint, `for i in range(m): for j in range(n): prob += x[(i,j)] <= y[j]`, ensures that if a facility is open, then the customers served by that facility should be assigned to it. This is expressed by saying that if x[i,j] = 1 (facility j serves customer i), then y[j] must also be 1 (facility j is open).  \n",
    "\n",
    "The third constraint, `prob += lpSum([y[j] for j in range(n)]) == p`, limits the number of facilities that can be open to p. It is expressed by summing over all facilities j and requiring that the total number of open facilities is exactly equal to p.  \n",
    "\n",
    "Together, these constraints ensure that the objective function is minimized subject to the conditions that each customer is served by exactly one facility, each facility can serve a limited number of customers, and the total number of open facilities is limited top.\n",
    "\n"
   ]
  },
  {
   "cell_type": "code",
   "execution_count": 263,
   "metadata": {},
   "outputs": [
    {
     "data": {
      "text/plain": [
       "1"
      ]
     },
     "execution_count": 263,
     "metadata": {},
     "output_type": "execute_result"
    }
   ],
   "source": [
    "# Solve the problem using branch-and-bound algorithm\n",
    "prob.solve(PULP_CBC_CMD(gapRel=0.0, threads=1, timeLimit=600))"
   ]
  },
  {
   "cell_type": "code",
   "execution_count": 264,
   "metadata": {},
   "outputs": [
    {
     "name": "stdout",
     "output_type": "stream",
     "text": [
      "Optimal objective value: 25.0\n",
      "Facility 0 is located. Kurudampalayam \n",
      "- Customer 0 is served. Kurudampalayam\n",
      "- Customer 1 is served. Ashokapuram\n",
      "- Customer 5 is served. Vadavalli\n",
      "Facility 3 is located. Vellalore\n",
      "- Customer 2 is served. Peelamedu\n",
      "- Customer 3 is served. Vellalore\n",
      "Facility 4 is located. KovaiPudur\n",
      "- Customer 4 is served. KovaiPudur\n"
     ]
    }
   ],
   "source": [
    "# Print results\n",
    "facilities = []\n",
    "X = np.zeros([6,6])\n",
    "times = []\n",
    "print(\"Optimal objective value:\", value(prob.objective))\n",
    "for j in range(n):\n",
    "    if y[j].value() > 0.5:\n",
    "        facilities.append(location[j])\n",
    "        print(\"Facility\", j, \"is located.\", location[j])\n",
    "        for i in range(m):\n",
    "            if x[(i,j)].value() > 0.5:\n",
    "                X[i,j]=1\n",
    "                times.append(df.iloc[i,j])\n",
    "                print(\"- Customer\", i, \"is served.\", clients[i])"
   ]
  },
  {
   "cell_type": "code",
   "execution_count": 265,
   "metadata": {},
   "outputs": [
    {
     "name": "stdout",
     "output_type": "stream",
     "text": [
      "Facilidades abertas:\n",
      " ['Kurudampalayam ', 'Vellalore', 'KovaiPudur']\n",
      "matriz de variaveis de decisão:\n",
      " [[1. 0. 0. 0. 0. 0.]\n",
      " [1. 0. 0. 0. 0. 0.]\n",
      " [0. 0. 0. 1. 0. 0.]\n",
      " [0. 0. 0. 1. 0. 0.]\n",
      " [0. 0. 0. 0. 1. 0.]\n",
      " [1. 0. 0. 0. 0. 0.]]\n"
     ]
    }
   ],
   "source": [
    "print('Facilidades abertas:\\n', facilities)\n",
    "print('matriz de variaveis de decisão:\\n', X)"
   ]
  },
  {
   "cell_type": "code",
   "execution_count": 266,
   "metadata": {},
   "outputs": [],
   "source": [
    "for i in range(X.shape[0]):\n",
    "    for j in range(X.shape[1]):\n",
    "        if X[i,j] == 0:\n",
    "            df.iloc[i,j] = X[i,j]"
   ]
  },
  {
   "cell_type": "code",
   "execution_count": 267,
   "metadata": {},
   "outputs": [
    {
     "data": {
      "text/html": [
       "<div>\n",
       "<style scoped>\n",
       "    .dataframe tbody tr th:only-of-type {\n",
       "        vertical-align: middle;\n",
       "    }\n",
       "\n",
       "    .dataframe tbody tr th {\n",
       "        vertical-align: top;\n",
       "    }\n",
       "\n",
       "    .dataframe thead th {\n",
       "        text-align: right;\n",
       "    }\n",
       "</style>\n",
       "<table border=\"1\" class=\"dataframe\">\n",
       "  <thead>\n",
       "    <tr style=\"text-align: right;\">\n",
       "      <th></th>\n",
       "      <th>Kurudampalayam</th>\n",
       "      <th>Ashokapuram</th>\n",
       "      <th>Peelamedu</th>\n",
       "      <th>Vellalore</th>\n",
       "      <th>KovaiPudur</th>\n",
       "      <th>Vadavalli</th>\n",
       "    </tr>\n",
       "  </thead>\n",
       "  <tbody>\n",
       "    <tr>\n",
       "      <th>Kurudampalayam</th>\n",
       "      <td>0.0</td>\n",
       "      <td>0.0</td>\n",
       "      <td>0.0</td>\n",
       "      <td>0.0</td>\n",
       "      <td>0.0</td>\n",
       "      <td>0.0</td>\n",
       "    </tr>\n",
       "    <tr>\n",
       "      <th>Ashokapuram</th>\n",
       "      <td>5.6</td>\n",
       "      <td>0.0</td>\n",
       "      <td>0.0</td>\n",
       "      <td>0.0</td>\n",
       "      <td>0.0</td>\n",
       "      <td>0.0</td>\n",
       "    </tr>\n",
       "    <tr>\n",
       "      <th>Peelamedu</th>\n",
       "      <td>0.0</td>\n",
       "      <td>0.0</td>\n",
       "      <td>0.0</td>\n",
       "      <td>8.0</td>\n",
       "      <td>0.0</td>\n",
       "      <td>0.0</td>\n",
       "    </tr>\n",
       "    <tr>\n",
       "      <th>Vellalore</th>\n",
       "      <td>0.0</td>\n",
       "      <td>0.0</td>\n",
       "      <td>0.0</td>\n",
       "      <td>0.0</td>\n",
       "      <td>0.0</td>\n",
       "      <td>0.0</td>\n",
       "    </tr>\n",
       "    <tr>\n",
       "      <th>KovaiPudur</th>\n",
       "      <td>0.0</td>\n",
       "      <td>0.0</td>\n",
       "      <td>0.0</td>\n",
       "      <td>0.0</td>\n",
       "      <td>0.0</td>\n",
       "      <td>0.0</td>\n",
       "    </tr>\n",
       "    <tr>\n",
       "      <th>Vadavalli</th>\n",
       "      <td>11.4</td>\n",
       "      <td>0.0</td>\n",
       "      <td>0.0</td>\n",
       "      <td>0.0</td>\n",
       "      <td>0.0</td>\n",
       "      <td>0.0</td>\n",
       "    </tr>\n",
       "  </tbody>\n",
       "</table>\n",
       "</div>"
      ],
      "text/plain": [
       "                Kurudampalayam   Ashokapuram  Peelamedu  Vellalore  \\\n",
       "Kurudampalayam              0.0          0.0        0.0        0.0   \n",
       "Ashokapuram                 5.6          0.0        0.0        0.0   \n",
       "Peelamedu                   0.0          0.0        0.0        8.0   \n",
       "Vellalore                   0.0          0.0        0.0        0.0   \n",
       "KovaiPudur                  0.0          0.0        0.0        0.0   \n",
       "Vadavalli                  11.4          0.0        0.0        0.0   \n",
       "\n",
       "                KovaiPudur  Vadavalli  \n",
       "Kurudampalayam         0.0        0.0  \n",
       "Ashokapuram            0.0        0.0  \n",
       "Peelamedu              0.0        0.0  \n",
       "Vellalore              0.0        0.0  \n",
       "KovaiPudur             0.0        0.0  \n",
       "Vadavalli              0.0        0.0  "
      ]
     },
     "execution_count": 267,
     "metadata": {},
     "output_type": "execute_result"
    }
   ],
   "source": [
    "df"
   ]
  },
  {
   "cell_type": "code",
   "execution_count": 268,
   "metadata": {},
   "outputs": [
    {
     "data": {
      "text/plain": [
       "[0.0, 5.6, 11.4, 8.0, 0.0, 0.0]"
      ]
     },
     "execution_count": 268,
     "metadata": {},
     "output_type": "execute_result"
    }
   ],
   "source": [
    "times"
   ]
  },
  {
   "cell_type": "code",
   "execution_count": null,
   "metadata": {},
   "outputs": [],
   "source": []
  }
 ],
 "metadata": {
  "kernelspec": {
   "display_name": "env",
   "language": "python",
   "name": "python3"
  },
  "language_info": {
   "codemirror_mode": {
    "name": "ipython",
    "version": 3
   },
   "file_extension": ".py",
   "mimetype": "text/x-python",
   "name": "python",
   "nbconvert_exporter": "python",
   "pygments_lexer": "ipython3",
   "version": "3.11.6"
  }
 },
 "nbformat": 4,
 "nbformat_minor": 2
}
