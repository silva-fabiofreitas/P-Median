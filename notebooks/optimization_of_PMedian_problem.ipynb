{
 "cells": [
  {
   "cell_type": "markdown",
   "metadata": {},
   "source": [
    "# P-Median\n",
    "<img src='../imgs/p_median.bmp' height=300></img>\n",
    "\n",
    "where:  \n",
    "**m** is the number of customers,  \n",
    "**n** is the number of potential facility locations,  \n",
    "**p** is the number of facilities to be opened,  \n",
    "**cᵢⱼ** is the cost of serving customer *i* from facility *j*,  \n",
    "**xᵢⱼ** is a binary decision variable indicating whether customer *i* is served by facility *j*, and  \n",
    "**yⱼ** is a binary decision variable indicating whether facility *j* is opened."
   ]
  },
  {
   "cell_type": "code",
   "execution_count": 1,
   "metadata": {},
   "outputs": [
    {
     "data": {
      "text/html": [
       "<div>\n",
       "<style scoped>\n",
       "    .dataframe tbody tr th:only-of-type {\n",
       "        vertical-align: middle;\n",
       "    }\n",
       "\n",
       "    .dataframe tbody tr th {\n",
       "        vertical-align: top;\n",
       "    }\n",
       "\n",
       "    .dataframe thead th {\n",
       "        text-align: right;\n",
       "    }\n",
       "</style>\n",
       "<table border=\"1\" class=\"dataframe\">\n",
       "  <thead>\n",
       "    <tr style=\"text-align: right;\">\n",
       "      <th></th>\n",
       "      <th>Kurudampalayam</th>\n",
       "      <th>Ashokapuram</th>\n",
       "      <th>Peelamedu</th>\n",
       "      <th>Vellalore</th>\n",
       "      <th>KovaiPudur</th>\n",
       "      <th>Vadavalli</th>\n",
       "    </tr>\n",
       "  </thead>\n",
       "  <tbody>\n",
       "    <tr>\n",
       "      <th>Kurudampalayam</th>\n",
       "      <td>0.0</td>\n",
       "      <td>5.6</td>\n",
       "      <td>17.4</td>\n",
       "      <td>21.8</td>\n",
       "      <td>19.4</td>\n",
       "      <td>11.4</td>\n",
       "    </tr>\n",
       "    <tr>\n",
       "      <th>Ashokapuram</th>\n",
       "      <td>5.6</td>\n",
       "      <td>0.0</td>\n",
       "      <td>11.6</td>\n",
       "      <td>19.6</td>\n",
       "      <td>21.7</td>\n",
       "      <td>13.0</td>\n",
       "    </tr>\n",
       "    <tr>\n",
       "      <th>Peelamedu</th>\n",
       "      <td>17.4</td>\n",
       "      <td>11.6</td>\n",
       "      <td>0.0</td>\n",
       "      <td>8.0</td>\n",
       "      <td>18.3</td>\n",
       "      <td>16.8</td>\n",
       "    </tr>\n",
       "    <tr>\n",
       "      <th>Vellalore</th>\n",
       "      <td>21.8</td>\n",
       "      <td>19.6</td>\n",
       "      <td>8.0</td>\n",
       "      <td>0.0</td>\n",
       "      <td>16.9</td>\n",
       "      <td>20.1</td>\n",
       "    </tr>\n",
       "    <tr>\n",
       "      <th>KovaiPudur</th>\n",
       "      <td>19.4</td>\n",
       "      <td>21.7</td>\n",
       "      <td>18.3</td>\n",
       "      <td>16.9</td>\n",
       "      <td>0.0</td>\n",
       "      <td>13.6</td>\n",
       "    </tr>\n",
       "    <tr>\n",
       "      <th>Vadavalli</th>\n",
       "      <td>11.4</td>\n",
       "      <td>13.0</td>\n",
       "      <td>16.8</td>\n",
       "      <td>20.1</td>\n",
       "      <td>13.6</td>\n",
       "      <td>0.0</td>\n",
       "    </tr>\n",
       "  </tbody>\n",
       "</table>\n",
       "</div>"
      ],
      "text/plain": [
       "                Kurudampalayam   Ashokapuram  Peelamedu  Vellalore  \\\n",
       "Kurudampalayam              0.0          5.6       17.4       21.8   \n",
       "Ashokapuram                 5.6          0.0       11.6       19.6   \n",
       "Peelamedu                  17.4         11.6        0.0        8.0   \n",
       "Vellalore                  21.8         19.6        8.0        0.0   \n",
       "KovaiPudur                 19.4         21.7       18.3       16.9   \n",
       "Vadavalli                  11.4         13.0       16.8       20.1   \n",
       "\n",
       "                KovaiPudur  Vadavalli  \n",
       "Kurudampalayam        19.4       11.4  \n",
       "Ashokapuram           21.7       13.0  \n",
       "Peelamedu             18.3       16.8  \n",
       "Vellalore             16.9       20.1  \n",
       "KovaiPudur             0.0       13.6  \n",
       "Vadavalli             13.6        0.0  "
      ]
     },
     "execution_count": 1,
     "metadata": {},
     "output_type": "execute_result"
    }
   ],
   "source": [
    "# import matrix\n",
    "import pandas as pd\n",
    "from pulp import *\n",
    "import numpy as np\n",
    "\n",
    "df = pd.read_csv('../data/distance.csv', delimiter=';', index_col=0)\n",
    "df\n"
   ]
  },
  {
   "cell_type": "markdown",
   "metadata": {},
   "source": [
    "**Definindo variaveis**"
   ]
  },
  {
   "cell_type": "code",
   "execution_count": 2,
   "metadata": {},
   "outputs": [],
   "source": [
    "location = df.columns.values\n",
    "clients = df.index.values \n",
    "w = [1,1,1,1,1,1]\n",
    "m = df.shape[0] # Nº de clientes\n",
    "n = df.shape[1] # Nº de potenciais facilidades\n",
    "p= 3 # Nº de facilidades   \n",
    "c = df.values\n"
   ]
  },
  {
   "cell_type": "code",
   "execution_count": 3,
   "metadata": {},
   "outputs": [],
   "source": [
    "# Define the problem\n",
    "prob = LpProblem(\"p-median\", LpMinimize)"
   ]
  },
  {
   "cell_type": "code",
   "execution_count": 4,
   "metadata": {},
   "outputs": [],
   "source": [
    "# Define decision variables\n",
    "x = LpVariable.dicts(\"x\", [(i,j) for i in range(m) for j in range(n)], 0, 1, LpBinary)\n",
    "y = LpVariable.dicts(\"y\", [j for j in range(n)], 0, 1, LpBinary)"
   ]
  },
  {
   "cell_type": "code",
   "execution_count": 5,
   "metadata": {},
   "outputs": [],
   "source": [
    "# Define objective function\n",
    "prob += lpSum([c[i][j] * x[(i,j)] * w[i] for i in range(m) for j in range(n)])"
   ]
  },
  {
   "cell_type": "code",
   "execution_count": 6,
   "metadata": {},
   "outputs": [],
   "source": [
    "# Define constraints\n",
    "for i in range(m):\n",
    "    prob += lpSum([x[(i,j)] for j in range(n)]) == 1\n",
    "\n",
    "for i in range(m):\n",
    "    for j in range(n):\n",
    "        prob += x[(i,j)] <= y[j]\n",
    "                 \n",
    "prob += lpSum([y[j] for j in range(n)]) == p"
   ]
  },
  {
   "cell_type": "markdown",
   "metadata": {},
   "source": [
    "The first constraint, <code> for i in range(m): prob += lpSum([x[(i,j)] for j in range(n)]) == 1,</code> ensures that each customer is assigned to exactly one facility. It is expressed by summing over all facilities j and requiring that each customer i is served by exactly one of them.  \n",
    "\n",
    "The second constraint, `for i in range(m): for j in range(n): prob += x[(i,j)] <= y[j]`, ensures that if a facility is open, then the customers served by that facility should be assigned to it. This is expressed by saying that if x[i,j] = 1 (facility j serves customer i), then y[j] must also be 1 (facility j is open).  \n",
    "\n",
    "The third constraint, `prob += lpSum([y[j] for j in range(n)]) == p`, limits the number of facilities that can be open to p. It is expressed by summing over all facilities j and requiring that the total number of open facilities is exactly equal to p.  \n",
    "\n",
    "Together, these constraints ensure that the objective function is minimized subject to the conditions that each customer is served by exactly one facility, each facility can serve a limited number of customers, and the total number of open facilities is limited top.\n",
    "\n"
   ]
  },
  {
   "cell_type": "code",
   "execution_count": 7,
   "metadata": {},
   "outputs": [
    {
     "name": "stdout",
     "output_type": "stream",
     "text": [
      "Welcome to the CBC MILP Solver \n",
      "Version: 2.10.3 \n",
      "Build Date: Dec 15 2019 \n",
      "\n",
      "command line - /home/fabio/PycharmProjects/P-Median/env/lib/python3.12/site-packages/pulp/solverdir/cbc/linux/64/cbc /tmp/cc481defb04a41c48ff425696b3c9ae7-pulp.mps -sec 600 -ratio 0.0 -threads 1 -timeMode elapsed -branch -printingOptions all -solution /tmp/cc481defb04a41c48ff425696b3c9ae7-pulp.sol (default strategy 1)\n",
      "At line 2 NAME          MODEL\n",
      "At line 3 ROWS\n",
      "At line 48 COLUMNS\n",
      "At line 277 RHS\n",
      "At line 321 BOUNDS\n",
      "At line 364 ENDATA\n",
      "Problem MODEL has 43 rows, 42 columns and 114 elements\n",
      "Coin0008I MODEL read with 0 errors\n",
      "seconds was changed from 1e+100 to 600\n",
      "ratioGap was changed from 0 to 0\n",
      "threads was changed from 0 to 1\n",
      "Option for timeMode changed from cpu to elapsed\n",
      "Continuous objective value is 25 - 0.00 seconds\n",
      "Cgl0004I processed model has 43 rows, 42 columns (42 integer (42 of which binary)) and 114 elements\n",
      "Cutoff increment increased from 1e-05 to 0.0999\n",
      "Cbc0038I Initial state - 0 integers unsatisfied sum - 0\n",
      "Cbc0038I Solution found of 25\n",
      "Cbc0038I Before mini branch and bound, 42 integers at bound fixed and 0 continuous\n",
      "Cbc0038I Mini branch and bound did not improve solution (0.00 seconds)\n",
      "Cbc0038I After 0.00 seconds - Feasibility pump exiting with objective of 25 - took 0.00 seconds\n",
      "Cbc0012I Integer solution of 25 found by feasibility pump after 0 iterations and 0 nodes (0.00 seconds)\n",
      "Cbc0030I Thread 0 used 0 times,  waiting to start 5.9843063e-05, 0 cpu time, 0 locks, 0 locked, 0 waiting for locks\n",
      "Cbc0030I Main thread 0 waiting for threads,  1 locks, 1.9073486e-06 locked, 0 waiting for locks\n",
      "Cbc0001I Search completed - best objective 25, took 0 iterations and 0 nodes (0.00 seconds)\n",
      "Cbc0035I Maximum depth 0, 0 variables fixed on reduced cost\n",
      "Cuts at root node changed objective from 25 to 25\n",
      "Probing was tried 0 times and created 0 cuts of which 0 were active after adding rounds of cuts (0.000 seconds)\n",
      "Gomory was tried 0 times and created 0 cuts of which 0 were active after adding rounds of cuts (0.000 seconds)\n",
      "Knapsack was tried 0 times and created 0 cuts of which 0 were active after adding rounds of cuts (0.000 seconds)\n",
      "Clique was tried 0 times and created 0 cuts of which 0 were active after adding rounds of cuts (0.000 seconds)\n",
      "MixedIntegerRounding2 was tried 0 times and created 0 cuts of which 0 were active after adding rounds of cuts (0.000 seconds)\n",
      "FlowCover was tried 0 times and created 0 cuts of which 0 were active after adding rounds of cuts (0.000 seconds)\n",
      "TwoMirCuts was tried 0 times and created 0 cuts of which 0 were active after adding rounds of cuts (0.000 seconds)\n",
      "ZeroHalf was tried 0 times and created 0 cuts of which 0 were active after adding rounds of cuts (0.000 seconds)\n",
      "\n",
      "Result - Optimal solution found\n",
      "\n",
      "Objective value:                25.00000000\n",
      "Enumerated nodes:               0\n",
      "Total iterations:               0\n",
      "Time (CPU seconds):             0.00\n",
      "Time (Wallclock seconds):       0.00\n",
      "\n",
      "Option for printingOptions changed from normal to all\n",
      "Total time (CPU seconds):       0.00   (Wallclock seconds):       0.00\n",
      "\n"
     ]
    },
    {
     "data": {
      "text/plain": [
       "1"
      ]
     },
     "execution_count": 7,
     "metadata": {},
     "output_type": "execute_result"
    }
   ],
   "source": [
    "# Solve the problem using branch-and-bound algorithm\n",
    "prob.solve(PULP_CBC_CMD(gapRel=0.0, threads=1, timeLimit=600))"
   ]
  },
  {
   "cell_type": "code",
   "execution_count": 8,
   "metadata": {},
   "outputs": [
    {
     "name": "stdout",
     "output_type": "stream",
     "text": [
      "Optimal objective value: 25.0\n",
      "Facility 0 is located. Kurudampalayam \n",
      "- Customer 0 is served. Kurudampalayam\n",
      "- Customer 1 is served. Ashokapuram\n",
      "- Customer 5 is served. Vadavalli\n",
      "Facility 3 is located. Vellalore\n",
      "- Customer 2 is served. Peelamedu\n",
      "- Customer 3 is served. Vellalore\n",
      "Facility 4 is located. KovaiPudur\n",
      "- Customer 4 is served. KovaiPudur\n"
     ]
    }
   ],
   "source": [
    "# Print results\n",
    "facilities = []\n",
    "X = np.zeros([6,6])\n",
    "times = []\n",
    "print(\"Optimal objective value:\", value(prob.objective))\n",
    "for j in range(n):\n",
    "    if y[j].value() > 0.5:\n",
    "        facilities.append(location[j])\n",
    "        print(\"Facility\", j, \"is located.\", location[j])\n",
    "        for i in range(m):\n",
    "            if x[(i,j)].value() > 0.5:\n",
    "                X[i,j]=1\n",
    "                times.append(df.iloc[i,j])\n",
    "                print(\"- Customer\", i, \"is served.\", clients[i])"
   ]
  },
  {
   "cell_type": "code",
   "execution_count": 9,
   "metadata": {},
   "outputs": [
    {
     "name": "stdout",
     "output_type": "stream",
     "text": [
      "Facilidades abertas:\n",
      " ['Kurudampalayam ', 'Vellalore', 'KovaiPudur']\n",
      "matriz de variaveis de decisão:\n",
      " [[1. 0. 0. 0. 0. 0.]\n",
      " [1. 0. 0. 0. 0. 0.]\n",
      " [0. 0. 0. 1. 0. 0.]\n",
      " [0. 0. 0. 1. 0. 0.]\n",
      " [0. 0. 0. 0. 1. 0.]\n",
      " [1. 0. 0. 0. 0. 0.]]\n"
     ]
    }
   ],
   "source": [
    "print('Facilidades abertas:\\n', facilities)\n",
    "print('matriz de variaveis de decisão:\\n', X)"
   ]
  },
  {
   "cell_type": "code",
   "execution_count": 266,
   "metadata": {},
   "outputs": [],
   "source": [
    "for i in range(X.shape[0]):\n",
    "    for j in range(X.shape[1]):\n",
    "        if X[i,j] == 0:\n",
    "            df.iloc[i,j] = X[i,j]"
   ]
  },
  {
   "cell_type": "code",
   "execution_count": 267,
   "metadata": {},
   "outputs": [
    {
     "data": {
      "text/html": [
       "<div>\n",
       "<style scoped>\n",
       "    .dataframe tbody tr th:only-of-type {\n",
       "        vertical-align: middle;\n",
       "    }\n",
       "\n",
       "    .dataframe tbody tr th {\n",
       "        vertical-align: top;\n",
       "    }\n",
       "\n",
       "    .dataframe thead th {\n",
       "        text-align: right;\n",
       "    }\n",
       "</style>\n",
       "<table border=\"1\" class=\"dataframe\">\n",
       "  <thead>\n",
       "    <tr style=\"text-align: right;\">\n",
       "      <th></th>\n",
       "      <th>Kurudampalayam</th>\n",
       "      <th>Ashokapuram</th>\n",
       "      <th>Peelamedu</th>\n",
       "      <th>Vellalore</th>\n",
       "      <th>KovaiPudur</th>\n",
       "      <th>Vadavalli</th>\n",
       "    </tr>\n",
       "  </thead>\n",
       "  <tbody>\n",
       "    <tr>\n",
       "      <th>Kurudampalayam</th>\n",
       "      <td>0.0</td>\n",
       "      <td>0.0</td>\n",
       "      <td>0.0</td>\n",
       "      <td>0.0</td>\n",
       "      <td>0.0</td>\n",
       "      <td>0.0</td>\n",
       "    </tr>\n",
       "    <tr>\n",
       "      <th>Ashokapuram</th>\n",
       "      <td>5.6</td>\n",
       "      <td>0.0</td>\n",
       "      <td>0.0</td>\n",
       "      <td>0.0</td>\n",
       "      <td>0.0</td>\n",
       "      <td>0.0</td>\n",
       "    </tr>\n",
       "    <tr>\n",
       "      <th>Peelamedu</th>\n",
       "      <td>0.0</td>\n",
       "      <td>0.0</td>\n",
       "      <td>0.0</td>\n",
       "      <td>8.0</td>\n",
       "      <td>0.0</td>\n",
       "      <td>0.0</td>\n",
       "    </tr>\n",
       "    <tr>\n",
       "      <th>Vellalore</th>\n",
       "      <td>0.0</td>\n",
       "      <td>0.0</td>\n",
       "      <td>0.0</td>\n",
       "      <td>0.0</td>\n",
       "      <td>0.0</td>\n",
       "      <td>0.0</td>\n",
       "    </tr>\n",
       "    <tr>\n",
       "      <th>KovaiPudur</th>\n",
       "      <td>0.0</td>\n",
       "      <td>0.0</td>\n",
       "      <td>0.0</td>\n",
       "      <td>0.0</td>\n",
       "      <td>0.0</td>\n",
       "      <td>0.0</td>\n",
       "    </tr>\n",
       "    <tr>\n",
       "      <th>Vadavalli</th>\n",
       "      <td>11.4</td>\n",
       "      <td>0.0</td>\n",
       "      <td>0.0</td>\n",
       "      <td>0.0</td>\n",
       "      <td>0.0</td>\n",
       "      <td>0.0</td>\n",
       "    </tr>\n",
       "  </tbody>\n",
       "</table>\n",
       "</div>"
      ],
      "text/plain": [
       "                Kurudampalayam   Ashokapuram  Peelamedu  Vellalore  \\\n",
       "Kurudampalayam              0.0          0.0        0.0        0.0   \n",
       "Ashokapuram                 5.6          0.0        0.0        0.0   \n",
       "Peelamedu                   0.0          0.0        0.0        8.0   \n",
       "Vellalore                   0.0          0.0        0.0        0.0   \n",
       "KovaiPudur                  0.0          0.0        0.0        0.0   \n",
       "Vadavalli                  11.4          0.0        0.0        0.0   \n",
       "\n",
       "                KovaiPudur  Vadavalli  \n",
       "Kurudampalayam         0.0        0.0  \n",
       "Ashokapuram            0.0        0.0  \n",
       "Peelamedu              0.0        0.0  \n",
       "Vellalore              0.0        0.0  \n",
       "KovaiPudur             0.0        0.0  \n",
       "Vadavalli              0.0        0.0  "
      ]
     },
     "execution_count": 267,
     "metadata": {},
     "output_type": "execute_result"
    }
   ],
   "source": [
    "df"
   ]
  },
  {
   "cell_type": "code",
   "execution_count": 268,
   "metadata": {},
   "outputs": [
    {
     "data": {
      "text/plain": [
       "[0.0, 5.6, 11.4, 8.0, 0.0, 0.0]"
      ]
     },
     "execution_count": 268,
     "metadata": {},
     "output_type": "execute_result"
    }
   ],
   "source": [
    "times"
   ]
  },
  {
   "cell_type": "code",
   "execution_count": null,
   "metadata": {},
   "outputs": [],
   "source": []
  }
 ],
 "metadata": {
  "kernelspec": {
   "display_name": "env",
   "language": "python",
   "name": "python3"
  },
  "language_info": {
   "codemirror_mode": {
    "name": "ipython",
    "version": 3
   },
   "file_extension": ".py",
   "mimetype": "text/x-python",
   "name": "python",
   "nbconvert_exporter": "python",
   "pygments_lexer": "ipython3",
   "version": "3.12.2"
  }
 },
 "nbformat": 4,
 "nbformat_minor": 2
}
