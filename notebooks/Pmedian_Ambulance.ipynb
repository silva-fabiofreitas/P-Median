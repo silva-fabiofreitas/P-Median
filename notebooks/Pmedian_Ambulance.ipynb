{
 "cells": [
  {
   "cell_type": "markdown",
   "metadata": {},
   "source": [
    "## Alocação de unidades de atendimento móvel do CBMERJ de Campos dos Goytacazes - RJ"
   ]
  },
  {
   "cell_type": "code",
   "execution_count": 6,
   "metadata": {},
   "outputs": [
    {
     "name": "stdout",
     "output_type": "stream",
     "text": [
      "Unexpected exception formatting exception. Falling back to standard exception\n"
     ]
    },
    {
     "name": "stderr",
     "output_type": "stream",
     "text": [
      "Traceback (most recent call last):\n",
      "  File \"c:\\Users\\fabio\\Documents\\PMedian\\env\\Lib\\site-packages\\IPython\\core\\interactiveshell.py\", line 3548, in run_code\n",
      "  File \"C:\\Users\\fabio\\AppData\\Local\\Temp\\ipykernel_704\\3053745432.py\", line 6, in <module>\n",
      "    import numpy as np\n",
      "ModuleNotFoundError: No module named 'numpy'\n",
      "\n",
      "During handling of the above exception, another exception occurred:\n",
      "\n",
      "Traceback (most recent call last):\n",
      "  File \"c:\\Users\\fabio\\Documents\\PMedian\\env\\Lib\\site-packages\\pygments\\styles\\__init__.py\", line 90, in get_style_by_name\n",
      "ModuleNotFoundError: No module named 'pygments.styles.default'\n",
      "\n",
      "During handling of the above exception, another exception occurred:\n",
      "\n",
      "Traceback (most recent call last):\n",
      "  File \"c:\\Users\\fabio\\Documents\\PMedian\\env\\Lib\\site-packages\\IPython\\core\\interactiveshell.py\", line 2142, in showtraceback\n",
      "  File \"c:\\Users\\fabio\\Documents\\PMedian\\env\\Lib\\site-packages\\IPython\\core\\ultratb.py\", line 1435, in structured_traceback\n",
      "  File \"c:\\Users\\fabio\\Documents\\PMedian\\env\\Lib\\site-packages\\IPython\\core\\ultratb.py\", line 1326, in structured_traceback\n",
      "  File \"c:\\Users\\fabio\\Documents\\PMedian\\env\\Lib\\site-packages\\IPython\\core\\ultratb.py\", line 1173, in structured_traceback\n",
      "  File \"c:\\Users\\fabio\\Documents\\PMedian\\env\\Lib\\site-packages\\IPython\\core\\ultratb.py\", line 1063, in format_exception_as_a_whole\n",
      "  File \"c:\\Users\\fabio\\Documents\\PMedian\\env\\Lib\\site-packages\\IPython\\core\\ultratb.py\", line 1114, in get_records\n",
      "  File \"c:\\Users\\fabio\\Documents\\PMedian\\env\\Lib\\site-packages\\pygments\\styles\\__init__.py\", line 92, in get_style_by_name\n",
      "pygments.util.ClassNotFound: Could not find style module 'default', though it should be builtin.\n"
     ]
    }
   ],
   "source": [
    "# Library\n",
    "import pathlib\n",
    "import os\n",
    "import sys\n",
    "\n",
    "import numpy as np\n",
    "import pandas as pd\n",
    "from pulp import *\n",
    "from utils.process import stander_text\n",
    "# my packges\n",
    "sys.path.insert(0, str(pathlib.Path().absolute().parent))\n",
    "\n",
    "import process.allocation as allocation\n",
    "from process.geocode import *\n",
    "\n",
    "import plotly.express as px\n",
    "import plotly.io as pio\n"
   ]
  },
  {
   "cell_type": "code",
   "execution_count": 2,
   "metadata": {},
   "outputs": [],
   "source": [
    "pio.templates.default = \"seaborn\""
   ]
  },
  {
   "cell_type": "markdown",
   "metadata": {},
   "source": [
    "**Importar dados**"
   ]
  },
  {
   "cell_type": "code",
   "execution_count": 3,
   "metadata": {},
   "outputs": [],
   "source": [
    "df_matrix= pd.read_excel('../data/matriz_tempo.xlsx', index_col=0)"
   ]
  },
  {
   "cell_type": "code",
   "execution_count": 4,
   "metadata": {},
   "outputs": [
    {
     "data": {
      "text/html": [
       "<div>\n",
       "<style scoped>\n",
       "    .dataframe tbody tr th:only-of-type {\n",
       "        vertical-align: middle;\n",
       "    }\n",
       "\n",
       "    .dataframe tbody tr th {\n",
       "        vertical-align: top;\n",
       "    }\n",
       "\n",
       "    .dataframe thead th {\n",
       "        text-align: right;\n",
       "    }\n",
       "</style>\n",
       "<table border=\"1\" class=\"dataframe\">\n",
       "  <thead>\n",
       "    <tr style=\"text-align: right;\">\n",
       "      <th></th>\n",
       "      <th>5 GBM</th>\n",
       "      <th>DBM 1/5 GUARUS</th>\n",
       "      <th>HOSP. FERREIRA M</th>\n",
       "      <th>HOSP. G. GUARUS</th>\n",
       "      <th>HOSP. SÃO JOSÉ</th>\n",
       "      <th>HOSP. TRAVESSÃO</th>\n",
       "      <th>PS GUARUS</th>\n",
       "      <th>SANDU</th>\n",
       "      <th>UBS Sartunino Braga</th>\n",
       "      <th>UBS TOCOS</th>\n",
       "      <th>UPA</th>\n",
       "      <th>UPH F. SÃO THOMÉ</th>\n",
       "      <th>UPH MORRO DO COCO</th>\n",
       "      <th>UPH ST EDUARDO</th>\n",
       "    </tr>\n",
       "    <tr>\n",
       "      <th>Clientes</th>\n",
       "      <th></th>\n",
       "      <th></th>\n",
       "      <th></th>\n",
       "      <th></th>\n",
       "      <th></th>\n",
       "      <th></th>\n",
       "      <th></th>\n",
       "      <th></th>\n",
       "      <th></th>\n",
       "      <th></th>\n",
       "      <th></th>\n",
       "      <th></th>\n",
       "      <th></th>\n",
       "      <th></th>\n",
       "    </tr>\n",
       "  </thead>\n",
       "  <tbody>\n",
       "    <tr>\n",
       "      <th>Alphaville</th>\n",
       "      <td>1132</td>\n",
       "      <td>1997</td>\n",
       "      <td>1449</td>\n",
       "      <td>1345</td>\n",
       "      <td>527</td>\n",
       "      <td>2579</td>\n",
       "      <td>1450</td>\n",
       "      <td>972</td>\n",
       "      <td>1610</td>\n",
       "      <td>1348</td>\n",
       "      <td>1706</td>\n",
       "      <td>3454</td>\n",
       "      <td>4157</td>\n",
       "      <td>5609</td>\n",
       "    </tr>\n",
       "    <tr>\n",
       "      <th>Baixa Grande</th>\n",
       "      <td>3004</td>\n",
       "      <td>3869</td>\n",
       "      <td>3321</td>\n",
       "      <td>3217</td>\n",
       "      <td>1923</td>\n",
       "      <td>4451</td>\n",
       "      <td>3322</td>\n",
       "      <td>2844</td>\n",
       "      <td>655</td>\n",
       "      <td>2062</td>\n",
       "      <td>3578</td>\n",
       "      <td>1189</td>\n",
       "      <td>6029</td>\n",
       "      <td>7481</td>\n",
       "    </tr>\n",
       "    <tr>\n",
       "      <th>Boa Vista</th>\n",
       "      <td>3536</td>\n",
       "      <td>4401</td>\n",
       "      <td>3852</td>\n",
       "      <td>3749</td>\n",
       "      <td>2454</td>\n",
       "      <td>4982</td>\n",
       "      <td>3854</td>\n",
       "      <td>3375</td>\n",
       "      <td>1186</td>\n",
       "      <td>2432</td>\n",
       "      <td>4109</td>\n",
       "      <td>673</td>\n",
       "      <td>6561</td>\n",
       "      <td>8012</td>\n",
       "    </tr>\n",
       "    <tr>\n",
       "      <th>Caboio</th>\n",
       "      <td>2808</td>\n",
       "      <td>3673</td>\n",
       "      <td>3124</td>\n",
       "      <td>3021</td>\n",
       "      <td>1726</td>\n",
       "      <td>4254</td>\n",
       "      <td>3126</td>\n",
       "      <td>2647</td>\n",
       "      <td>1025</td>\n",
       "      <td>1404</td>\n",
       "      <td>3381</td>\n",
       "      <td>1925</td>\n",
       "      <td>5833</td>\n",
       "      <td>7284</td>\n",
       "    </tr>\n",
       "    <tr>\n",
       "      <th>Caju</th>\n",
       "      <td>508</td>\n",
       "      <td>768</td>\n",
       "      <td>150</td>\n",
       "      <td>591</td>\n",
       "      <td>1712</td>\n",
       "      <td>1331</td>\n",
       "      <td>368</td>\n",
       "      <td>811</td>\n",
       "      <td>2794</td>\n",
       "      <td>2422</td>\n",
       "      <td>412</td>\n",
       "      <td>4638</td>\n",
       "      <td>2909</td>\n",
       "      <td>4361</td>\n",
       "    </tr>\n",
       "    <tr>\n",
       "      <th>...</th>\n",
       "      <td>...</td>\n",
       "      <td>...</td>\n",
       "      <td>...</td>\n",
       "      <td>...</td>\n",
       "      <td>...</td>\n",
       "      <td>...</td>\n",
       "      <td>...</td>\n",
       "      <td>...</td>\n",
       "      <td>...</td>\n",
       "      <td>...</td>\n",
       "      <td>...</td>\n",
       "      <td>...</td>\n",
       "      <td>...</td>\n",
       "      <td>...</td>\n",
       "    </tr>\n",
       "    <tr>\n",
       "      <th>Vila Industrial</th>\n",
       "      <td>982</td>\n",
       "      <td>223</td>\n",
       "      <td>909</td>\n",
       "      <td>800</td>\n",
       "      <td>2304</td>\n",
       "      <td>1050</td>\n",
       "      <td>826</td>\n",
       "      <td>1323</td>\n",
       "      <td>3386</td>\n",
       "      <td>3124</td>\n",
       "      <td>521</td>\n",
       "      <td>5231</td>\n",
       "      <td>2629</td>\n",
       "      <td>4080</td>\n",
       "    </tr>\n",
       "    <tr>\n",
       "      <th>Vila MANHÃES</th>\n",
       "      <td>1077</td>\n",
       "      <td>1942</td>\n",
       "      <td>1394</td>\n",
       "      <td>1290</td>\n",
       "      <td>974</td>\n",
       "      <td>2524</td>\n",
       "      <td>1455</td>\n",
       "      <td>999</td>\n",
       "      <td>1524</td>\n",
       "      <td>1571</td>\n",
       "      <td>1650</td>\n",
       "      <td>3369</td>\n",
       "      <td>4102</td>\n",
       "      <td>5554</td>\n",
       "    </tr>\n",
       "    <tr>\n",
       "      <th>Vila Nova de Campos</th>\n",
       "      <td>2751</td>\n",
       "      <td>2197</td>\n",
       "      <td>2625</td>\n",
       "      <td>2570</td>\n",
       "      <td>4073</td>\n",
       "      <td>1425</td>\n",
       "      <td>2596</td>\n",
       "      <td>3093</td>\n",
       "      <td>5155</td>\n",
       "      <td>4893</td>\n",
       "      <td>2238</td>\n",
       "      <td>7000</td>\n",
       "      <td>1052</td>\n",
       "      <td>2580</td>\n",
       "    </tr>\n",
       "    <tr>\n",
       "      <th>Vila da Rainha</th>\n",
       "      <td>688</td>\n",
       "      <td>1553</td>\n",
       "      <td>1004</td>\n",
       "      <td>901</td>\n",
       "      <td>1254</td>\n",
       "      <td>2135</td>\n",
       "      <td>1066</td>\n",
       "      <td>671</td>\n",
       "      <td>2336</td>\n",
       "      <td>2074</td>\n",
       "      <td>1261</td>\n",
       "      <td>4181</td>\n",
       "      <td>3713</td>\n",
       "      <td>5165</td>\n",
       "    </tr>\n",
       "    <tr>\n",
       "      <th>Vivendas Do Coqueiro</th>\n",
       "      <td>833</td>\n",
       "      <td>1698</td>\n",
       "      <td>1149</td>\n",
       "      <td>1046</td>\n",
       "      <td>617</td>\n",
       "      <td>2279</td>\n",
       "      <td>1151</td>\n",
       "      <td>672</td>\n",
       "      <td>1699</td>\n",
       "      <td>1437</td>\n",
       "      <td>1406</td>\n",
       "      <td>3543</td>\n",
       "      <td>3858</td>\n",
       "      <td>5310</td>\n",
       "    </tr>\n",
       "  </tbody>\n",
       "</table>\n",
       "<p>165 rows × 14 columns</p>\n",
       "</div>"
      ],
      "text/plain": [
       "                      5 GBM  DBM 1/5 GUARUS  HOSP. FERREIRA M  \\\n",
       "Clientes                                                        \n",
       "Alphaville             1132            1997              1449   \n",
       "Baixa Grande           3004            3869              3321   \n",
       "Boa Vista              3536            4401              3852   \n",
       "Caboio                 2808            3673              3124   \n",
       "Caju                    508             768               150   \n",
       "...                     ...             ...               ...   \n",
       "Vila Industrial         982             223               909   \n",
       "Vila MANHÃES           1077            1942              1394   \n",
       "Vila Nova de Campos    2751            2197              2625   \n",
       "Vila da Rainha          688            1553              1004   \n",
       "Vivendas Do Coqueiro    833            1698              1149   \n",
       "\n",
       "                      HOSP. G. GUARUS  HOSP. SÃO JOSÉ  HOSP. TRAVESSÃO  \\\n",
       "Clientes                                                                 \n",
       "Alphaville                       1345             527             2579   \n",
       "Baixa Grande                     3217            1923             4451   \n",
       "Boa Vista                        3749            2454             4982   \n",
       "Caboio                           3021            1726             4254   \n",
       "Caju                              591            1712             1331   \n",
       "...                               ...             ...              ...   \n",
       "Vila Industrial                   800            2304             1050   \n",
       "Vila MANHÃES                     1290             974             2524   \n",
       "Vila Nova de Campos              2570            4073             1425   \n",
       "Vila da Rainha                    901            1254             2135   \n",
       "Vivendas Do Coqueiro             1046             617             2279   \n",
       "\n",
       "                      PS GUARUS  SANDU  UBS Sartunino Braga  UBS TOCOS   UPA  \\\n",
       "Clientes                                                                       \n",
       "Alphaville                 1450    972                 1610       1348  1706   \n",
       "Baixa Grande               3322   2844                  655       2062  3578   \n",
       "Boa Vista                  3854   3375                 1186       2432  4109   \n",
       "Caboio                     3126   2647                 1025       1404  3381   \n",
       "Caju                        368    811                 2794       2422   412   \n",
       "...                         ...    ...                  ...        ...   ...   \n",
       "Vila Industrial             826   1323                 3386       3124   521   \n",
       "Vila MANHÃES               1455    999                 1524       1571  1650   \n",
       "Vila Nova de Campos        2596   3093                 5155       4893  2238   \n",
       "Vila da Rainha             1066    671                 2336       2074  1261   \n",
       "Vivendas Do Coqueiro       1151    672                 1699       1437  1406   \n",
       "\n",
       "                      UPH F. SÃO THOMÉ  UPH MORRO DO COCO  UPH ST EDUARDO  \n",
       "Clientes                                                                   \n",
       "Alphaville                        3454               4157            5609  \n",
       "Baixa Grande                      1189               6029            7481  \n",
       "Boa Vista                          673               6561            8012  \n",
       "Caboio                            1925               5833            7284  \n",
       "Caju                              4638               2909            4361  \n",
       "...                                ...                ...             ...  \n",
       "Vila Industrial                   5231               2629            4080  \n",
       "Vila MANHÃES                      3369               4102            5554  \n",
       "Vila Nova de Campos               7000               1052            2580  \n",
       "Vila da Rainha                    4181               3713            5165  \n",
       "Vivendas Do Coqueiro              3543               3858            5310  \n",
       "\n",
       "[165 rows x 14 columns]"
      ]
     },
     "execution_count": 4,
     "metadata": {},
     "output_type": "execute_result"
    }
   ],
   "source": [
    "df_matrix"
   ]
  },
  {
   "cell_type": "markdown",
   "metadata": {},
   "source": [
    "# Modelo matemático"
   ]
  },
  {
   "cell_type": "code",
   "execution_count": 5,
   "metadata": {},
   "outputs": [],
   "source": [
    "# DEFININDO VARIÁVEIS\n",
    "location = df_matrix.columns.values\n",
    "clients = df_matrix.index.values \n",
    "w = [1 for w in clients]\n",
    "m = df_matrix.shape[0] # Nº de clientes\n",
    "n = df_matrix.shape[1] # Nº de potenciais facilidades\n",
    "p = 9 # Nº de facilidades   \n"
   ]
  },
  {
   "cell_type": "markdown",
   "metadata": {},
   "source": [
    "### Cenários\n",
    "**Cenário base**"
   ]
  },
  {
   "cell_type": "code",
   "execution_count": 6,
   "metadata": {},
   "outputs": [
    {
     "data": {
      "text/plain": [
       "count     165.000000\n",
       "mean      732.703030\n",
       "std       701.194166\n",
       "min        43.000000\n",
       "25%       327.000000\n",
       "50%       499.000000\n",
       "75%       817.000000\n",
       "max      3687.000000\n",
       "dtype: float64"
      ]
     },
     "execution_count": 6,
     "metadata": {},
     "output_type": "execute_result"
    }
   ],
   "source": [
    "# Cenario base\n",
    "bases_atuais = ['5 GBM', 'DBM 1/5 GUARUS', 'HOSP. FERREIRA M', 'HOSP. G. GUARUS', 'HOSP. SÃO JOSÉ', 'HOSP. TRAVESSÃO', 'PS GUARUS', 'SANDU', 'UBS Sartunino Braga']\n",
    "scenario_base = df_matrix[bases_atuais].apply(min, axis=1).copy()\n",
    "df_matrix[bases_atuais].apply(min, axis=1).describe()"
   ]
  },
  {
   "cell_type": "markdown",
   "metadata": {},
   "source": [
    "**Cenário ponderado**"
   ]
  },
  {
   "cell_type": "code",
   "execution_count": 7,
   "metadata": {},
   "outputs": [],
   "source": [
    "# Carregar arquivo de pesos\n",
    "df_weight = pd.read_csv('../data/pesos.csv', delimiter=';')\n",
    "# Agregar para eliminar valores duplicados\n",
    "df_weight = df_weight.groupby('Clientes').sum().reset_index()"
   ]
  },
  {
   "cell_type": "code",
   "execution_count": 8,
   "metadata": {},
   "outputs": [
    {
     "data": {
      "text/html": [
       "<div>\n",
       "<style scoped>\n",
       "    .dataframe tbody tr th:only-of-type {\n",
       "        vertical-align: middle;\n",
       "    }\n",
       "\n",
       "    .dataframe tbody tr th {\n",
       "        vertical-align: top;\n",
       "    }\n",
       "\n",
       "    .dataframe thead th {\n",
       "        text-align: right;\n",
       "    }\n",
       "</style>\n",
       "<table border=\"1\" class=\"dataframe\">\n",
       "  <thead>\n",
       "    <tr style=\"text-align: right;\">\n",
       "      <th></th>\n",
       "      <th>Clientes</th>\n",
       "      <th>Bairros</th>\n",
       "      <th>2017</th>\n",
       "      <th>2018</th>\n",
       "      <th>2019</th>\n",
       "      <th>2020</th>\n",
       "      <th>Total</th>\n",
       "    </tr>\n",
       "  </thead>\n",
       "  <tbody>\n",
       "    <tr>\n",
       "      <th>0</th>\n",
       "      <td>Alphaville</td>\n",
       "      <td>Alphaville</td>\n",
       "      <td>28.0</td>\n",
       "      <td>9.0</td>\n",
       "      <td>12.0</td>\n",
       "      <td>0.0</td>\n",
       "      <td>49</td>\n",
       "    </tr>\n",
       "    <tr>\n",
       "      <th>1</th>\n",
       "      <td>Baixa Grande</td>\n",
       "      <td>Baixa Grande</td>\n",
       "      <td>0.0</td>\n",
       "      <td>0.0</td>\n",
       "      <td>6.0</td>\n",
       "      <td>0.0</td>\n",
       "      <td>6</td>\n",
       "    </tr>\n",
       "    <tr>\n",
       "      <th>2</th>\n",
       "      <td>Boa Vista</td>\n",
       "      <td>Boa Vista</td>\n",
       "      <td>18.0</td>\n",
       "      <td>62.0</td>\n",
       "      <td>124.0</td>\n",
       "      <td>0.0</td>\n",
       "      <td>204</td>\n",
       "    </tr>\n",
       "    <tr>\n",
       "      <th>3</th>\n",
       "      <td>Caboio</td>\n",
       "      <td>Caboio</td>\n",
       "      <td>0.0</td>\n",
       "      <td>4.0</td>\n",
       "      <td>0.0</td>\n",
       "      <td>0.0</td>\n",
       "      <td>4</td>\n",
       "    </tr>\n",
       "    <tr>\n",
       "      <th>4</th>\n",
       "      <td>Caju</td>\n",
       "      <td>Caju</td>\n",
       "      <td>43.0</td>\n",
       "      <td>87.0</td>\n",
       "      <td>88.0</td>\n",
       "      <td>0.0</td>\n",
       "      <td>218</td>\n",
       "    </tr>\n",
       "  </tbody>\n",
       "</table>\n",
       "</div>"
      ],
      "text/plain": [
       "       Clientes       Bairros  2017  2018   2019  2020  Total\n",
       "0    Alphaville    Alphaville  28.0   9.0   12.0   0.0     49\n",
       "1  Baixa Grande  Baixa Grande   0.0   0.0    6.0   0.0      6\n",
       "2     Boa Vista     Boa Vista  18.0  62.0  124.0   0.0    204\n",
       "3        Caboio        Caboio   0.0   4.0    0.0   0.0      4\n",
       "4          Caju          Caju  43.0  87.0   88.0   0.0    218"
      ]
     },
     "execution_count": 8,
     "metadata": {},
     "output_type": "execute_result"
    }
   ],
   "source": [
    "df_bairros_ponderado = df_matrix.copy()\n",
    "df_bairros_ponderado = df_bairros_ponderado.reset_index()[['Clientes']]\n",
    "df_bairros_ponderado = df_bairros_ponderado.merge(df_weight, left_on='Clientes', right_on='Clientes', how='left')\n",
    "df_bairros_ponderado.head()"
   ]
  },
  {
   "cell_type": "code",
   "execution_count": 9,
   "metadata": {},
   "outputs": [],
   "source": [
    "scenarios = {\n",
    "    'Não ponderado':[1 for x in range(m)],\n",
    "    'Ponderado':df_bairros_ponderado.Total.to_list()\n",
    "}"
   ]
  },
  {
   "cell_type": "markdown",
   "metadata": {},
   "source": [
    "**Rodar modelo**"
   ]
  },
  {
   "cell_type": "code",
   "execution_count": 10,
   "metadata": {},
   "outputs": [
    {
     "name": "stdout",
     "output_type": "stream",
     "text": [
      "1\n",
      "Optimal objective value: 111204.0\n",
      "Facility 1 is located. DBM 1/5 GUARUS\n",
      "- Customer 12 is served. Codim\n",
      "- Customer 22 is served. Estrada de Brejo Grande\n",
      "- Customer 49 is served. Novo Eldorado - Parque CEASA\n",
      "- Customer 51 is served. Parque Aeroporto\n",
      "- Customer 74 is served. Parque Eldorado\n",
      "- Customer 102 is served. Parque Santa Rosa\n",
      "- Customer 105 is served. Parque Santos Dumont\n",
      "- Customer 110 is served. Parque Sao Silvestre\n",
      "- Customer 126 is served. Parque palmares\n",
      "- Customer 148 is served. São Sebastião\n",
      "- Customer 151 is served. Terra Prometida\n",
      "- Customer 160 is served. Vila Industrial\n",
      "Facility 2 is located. HOSP. FERREIRA M\n",
      "- Customer 4 is served. Caju\n",
      "- Customer 11 is served. Chácara dos Sonhos - Morro Grande\n",
      "- Customer 18 is served. Dores De Macabu\n",
      "- Customer 29 is served. Guriri - Dores de Macabu\n",
      "- Customer 32 is served. Ibitioca\n",
      "- Customer 36 is served. Jardim Maria de Queiroz\n",
      "- Customer 38 is served. Lagoa De Cima\n",
      "- Customer 42 is served. Mato Escuro\n",
      "- Customer 45 is served. Morro do Itereré\n",
      "- Customer 52 is served. Parque Alberto Torres\n",
      "- Customer 57 is served. Parque Avenida Pelinca\n",
      "- Customer 63 is served. Parque Brasília\n",
      "- Customer 70 is served. Parque Conselheiro Tomaz Coelho\n",
      "- Customer 71 is served. Parque Corrientes\n",
      "- Customer 72 is served. Parque Dom Bosco\n",
      "- Customer 75 is served. Parque Esplanada\n",
      "- Customer 81 is served. Parque Jardim das Acácias\n",
      "- Customer 85 is served. Parque Juliao Nogueira\n",
      "- Customer 87 is served. Parque Leopoldina\n",
      "- Customer 92 is served. Parque Pecuaria\n",
      "- Customer 94 is served. Parque Pres. Juscelino\n",
      "- Customer 103 is served. Parque Santo Amaro\n",
      "- Customer 111 is served. Parque São Caetano\n",
      "- Customer 112 is served. Parque São Clemente\n",
      "- Customer 114 is served. Parque São Salvador\n",
      "- Customer 115 is served. Parque Tamandaré\n",
      "- Customer 125 is served. Parque dos Rodoviários\n",
      "- Customer 129 is served. Pernambuca - Ibitioca\n",
      "- Customer 130 is served. Ponta da Lama\n",
      "- Customer 135 is served. Queimado - Dores de Macabu\n",
      "- Customer 136 is served. Quilombo\n",
      "- Customer 139 is served. Rio Preto\n",
      "- Customer 141 is served. Santa Cruz\n",
      "- Customer 145 is served. Sumaré \n",
      "- Customer 150 is served. Tapera\n",
      "- Customer 156 is served. Tubarão do Imbé\n",
      "- Customer 157 is served. Ururai\n",
      "- Customer 158 is served. Usina São João\n",
      "Facility 4 is located. HOSP. SÃO JOSÉ\n",
      "- Customer 0 is served. Alphaville\n",
      "- Customer 5 is served. Cambaíba\n",
      "- Customer 17 is served. Donana\n",
      "- Customer 24 is served. Estrada do Carvão\n",
      "- Customer 26 is served. Goytacazes\n",
      "- Customer 48 is served. Nova Goitacazes\n",
      "- Customer 60 is served. Parque Bela Vista\n",
      "- Customer 80 is served. Parque Imperial\n",
      "- Customer 117 is served. Parque Tropical\n",
      "- Customer 119 is served. Parque Varanda do Visc.\n",
      "- Customer 124 is served. Parque do Prado\n",
      "- Customer 128 is served. Penha\n",
      "- Customer 131 is served. Poço Gordo - São Sebastião de Campos\n",
      "- Customer 132 is served. Pracinha I da Vila Romana\n",
      "- Customer 152 is served. Tocaia\n",
      "- Customer 161 is served. Vila MANHÃES\n",
      "- Customer 164 is served. Vivendas Do Coqueiro\n",
      "Facility 5 is located. HOSP. TRAVESSÃO\n",
      "- Customer 6 is served. Campelo\n",
      "- Customer 9 is served. Chave do Paraíso\n",
      "- Customer 13 is served. Conselheiro Josino\n",
      "- Customer 27 is served. Guandu\n",
      "- Customer 39 is served. Lagoa das Pedras - Travessão\n",
      "- Customer 43 is served. Matutu\n",
      "- Customer 90 is served. Parque Nova Canaã - KM10\n",
      "- Customer 138 is served. Ribeiro do Amaro - Travessão\n",
      "- Customer 140 is served. Santa Ana\n",
      "- Customer 146 is served. São Diogo - Vila Nova de Campos\n",
      "- Customer 154 is served. Travessão\n",
      "- Customer 162 is served. Vila Nova de Campos\n",
      "Facility 7 is located. SANDU\n",
      "- Customer 8 is served. Centro\n",
      "- Customer 10 is served. Chácara João Ferreira\n",
      "- Customer 19 is served. ETA Martins Lage\n",
      "- Customer 21 is served. Estação de Tratamento de Esgoto Chatuba\n",
      "- Customer 23 is served. Estrada de Campo Novo\n",
      "- Customer 30 is served. Horto\n",
      "- Customer 31 is served. IPS\n",
      "- Customer 34 is served. Jardim Flamboyant I\n",
      "- Customer 35 is served. Jardim Flamboyant II\n",
      "- Customer 40 is served. Lapa\n",
      "- Customer 50 is served. Novo Jockey\n",
      "- Customer 55 is served. Parque Alzira Vargas\n",
      "- Customer 56 is served. Parque Aurora\n",
      "- Customer 61 is served. Parque Benta Pereira\n",
      "- Customer 66 is served. Parque California\n",
      "- Customer 67 is served. Parque Carlos de Lacerda\n",
      "- Customer 73 is served. Parque Dr. Beda\n",
      "- Customer 76 is served. Parque Fazenda Grande\n",
      "- Customer 77 is served. Parque Fazendinha\n",
      "- Customer 82 is served. Parque Joao Maria\n",
      "- Customer 83 is served. Parque José do Patrocínio\n",
      "- Customer 84 is served. Parque João Seixas\n",
      "- Customer 86 is served. Parque Jóquei Club\n",
      "- Customer 88 is served. Parque Menezes\n",
      "- Customer 91 is served. Parque Oliveira Botelho\n",
      "- Customer 96 is served. Parque Riachuelo\n",
      "- Customer 97 is served. Parque Rosario\n",
      "- Customer 98 is served. Parque Rui Barbosa\n",
      "- Customer 99 is served. Parque Salo Brand\n",
      "- Customer 106 is served. Parque Sao Benedito\n",
      "- Customer 113 is served. Parque São Lino\n",
      "- Customer 116 is served. Parque Tarcisio Miranda\n",
      "- Customer 118 is served. Parque Turf Club\n",
      "- Customer 123 is served. Parque Vista Alegre\n",
      "- Customer 127 is served. Pecuária\n",
      "- Customer 159 is served. Venda Nova\n",
      "- Customer 163 is served. Vila da Rainha\n",
      "Facility 8 is located. UBS Sartunino Braga\n",
      "- Customer 1 is served. Baixa Grande\n",
      "- Customer 2 is served. Boa Vista\n",
      "- Customer 3 is served. Caboio\n",
      "- Customer 7 is served. Campo Limpo\n",
      "- Customer 20 is served. Espinho\n",
      "- Customer 25 is served. Farol de São Thomé\n",
      "- Customer 41 is served. Marrecas\n",
      "- Customer 44 is served. Mineiros\n",
      "- Customer 46 is served. Mussurepe\n",
      "- Customer 144 is served. Saturnino Braga\n",
      "- Customer 147 is served. São Martinho Santo Amaro de Campos\n",
      "- Customer 149 is served. São Sebastião De Campos\n",
      "Facility 9 is located. UBS TOCOS\n",
      "- Customer 14 is served. Coqueiros - Tocos\n",
      "- Customer 133 is served. Praça de Caxias De Tocos\n",
      "- Customer 153 is served. Tocos\n",
      "Facility 10 is located. UPA\n",
      "- Customer 16 is served. Custodópolis\n",
      "- Customer 28 is served. Guarus\n",
      "- Customer 33 is served. Jardim Carioca\n",
      "- Customer 37 is served. Jardim Res. Planície\n",
      "- Customer 47 is served. Nova Campos\n",
      "- Customer 53 is served. Parque Aldeia\n",
      "- Customer 54 is served. Parque Alvorada\n",
      "- Customer 58 is served. Parque Bandeirantes\n",
      "- Customer 59 is served. Parque Barão do Rio Branco\n",
      "- Customer 62 is served. Parque Bonsucesso\n",
      "- Customer 64 is served. Parque Calabouco\n",
      "- Customer 65 is served. Parque Calabouço\n",
      "- Customer 68 is served. Parque Ceasa\n",
      "- Customer 69 is served. Parque Cidade Luz\n",
      "- Customer 78 is served. Parque Fundao\n",
      "- Customer 79 is served. Parque Guarus\n",
      "- Customer 89 is served. Parque Niterói\n",
      "- Customer 93 is served. Parque Prazeres\n",
      "- Customer 95 is served. Parque Pres. Vargas\n",
      "- Customer 100 is served. Parque Santa Clara\n",
      "- Customer 101 is served. Parque Santa Helena\n",
      "- Customer 104 is served. Parque Santo Antonio\n",
      "- Customer 107 is served. Parque Sao Domingos\n",
      "- Customer 108 is served. Parque Sao Jose\n",
      "- Customer 109 is served. Parque Sao Mateus\n",
      "- Customer 120 is served. Parque Vera Cruz\n",
      "- Customer 121 is served. Parque Vicente Goncalves Dias\n",
      "- Customer 122 is served. Parque Visc. de Ururai\n",
      "- Customer 134 is served. Praça principal (quadra) do Lebret\n",
      "- Customer 137 is served. R. Novo Mundo - Parque Novo Mundo\n",
      "- Customer 155 is served. Três venda\n",
      "Facility 13 is located. UPH ST EDUARDO\n",
      "- Customer 15 is served. Correnteza - Santo Eduardo\n",
      "- Customer 142 is served. Santa Maria de Campos\n",
      "- Customer 143 is served. Santo Eduardo\n",
      "1\n",
      "Optimal objective value: 11074278.0\n",
      "Facility 0 is located. 5 GBM\n",
      "- Customer 5 is served. Cambaíba\n",
      "- Customer 6 is served. Campelo\n",
      "- Customer 8 is served. Centro\n",
      "- Customer 9 is served. Chave do Paraíso\n",
      "- Customer 20 is served. Espinho\n",
      "- Customer 21 is served. Estação de Tratamento de Esgoto Chatuba\n",
      "- Customer 40 is served. Lapa\n",
      "- Customer 41 is served. Marrecas\n",
      "- Customer 43 is served. Matutu\n",
      "- Customer 77 is served. Parque Fazendinha\n",
      "- Customer 93 is served. Parque Prazeres\n",
      "- Customer 121 is served. Parque Vicente Goncalves Dias\n",
      "- Customer 127 is served. Pecuária\n",
      "- Customer 142 is served. Santa Maria de Campos\n",
      "- Customer 146 is served. São Diogo - Vila Nova de Campos\n",
      "- Customer 148 is served. São Sebastião\n",
      "- Customer 158 is served. Usina São João\n",
      "Facility 1 is located. DBM 1/5 GUARUS\n",
      "- Customer 12 is served. Codim\n",
      "- Customer 22 is served. Estrada de Brejo Grande\n",
      "- Customer 49 is served. Novo Eldorado - Parque CEASA\n",
      "- Customer 51 is served. Parque Aeroporto\n",
      "- Customer 74 is served. Parque Eldorado\n",
      "- Customer 102 is served. Parque Santa Rosa\n",
      "- Customer 105 is served. Parque Santos Dumont\n",
      "- Customer 110 is served. Parque Sao Silvestre\n",
      "- Customer 126 is served. Parque palmares\n",
      "- Customer 151 is served. Terra Prometida\n",
      "- Customer 160 is served. Vila Industrial\n",
      "Facility 2 is located. HOSP. FERREIRA M\n",
      "- Customer 4 is served. Caju\n",
      "- Customer 11 is served. Chácara dos Sonhos - Morro Grande\n",
      "- Customer 18 is served. Dores De Macabu\n",
      "- Customer 29 is served. Guriri - Dores de Macabu\n",
      "- Customer 32 is served. Ibitioca\n",
      "- Customer 36 is served. Jardim Maria de Queiroz\n",
      "- Customer 38 is served. Lagoa De Cima\n",
      "- Customer 42 is served. Mato Escuro\n",
      "- Customer 45 is served. Morro do Itereré\n",
      "- Customer 52 is served. Parque Alberto Torres\n",
      "- Customer 57 is served. Parque Avenida Pelinca\n",
      "- Customer 63 is served. Parque Brasília\n",
      "- Customer 70 is served. Parque Conselheiro Tomaz Coelho\n",
      "- Customer 71 is served. Parque Corrientes\n",
      "- Customer 72 is served. Parque Dom Bosco\n",
      "- Customer 75 is served. Parque Esplanada\n",
      "- Customer 81 is served. Parque Jardim das Acácias\n",
      "- Customer 85 is served. Parque Juliao Nogueira\n",
      "- Customer 87 is served. Parque Leopoldina\n",
      "- Customer 92 is served. Parque Pecuaria\n",
      "- Customer 94 is served. Parque Pres. Juscelino\n",
      "- Customer 103 is served. Parque Santo Amaro\n",
      "- Customer 111 is served. Parque São Caetano\n",
      "- Customer 112 is served. Parque São Clemente\n",
      "- Customer 114 is served. Parque São Salvador\n",
      "- Customer 115 is served. Parque Tamandaré\n",
      "- Customer 125 is served. Parque dos Rodoviários\n",
      "- Customer 129 is served. Pernambuca - Ibitioca\n",
      "- Customer 130 is served. Ponta da Lama\n",
      "- Customer 135 is served. Queimado - Dores de Macabu\n",
      "- Customer 136 is served. Quilombo\n",
      "- Customer 139 is served. Rio Preto\n",
      "- Customer 141 is served. Santa Cruz\n",
      "- Customer 145 is served. Sumaré \n",
      "- Customer 150 is served. Tapera\n",
      "- Customer 156 is served. Tubarão do Imbé\n",
      "- Customer 157 is served. Ururai\n",
      "Facility 4 is located. HOSP. SÃO JOSÉ\n",
      "- Customer 0 is served. Alphaville\n",
      "- Customer 14 is served. Coqueiros - Tocos\n",
      "- Customer 17 is served. Donana\n",
      "- Customer 24 is served. Estrada do Carvão\n",
      "- Customer 26 is served. Goytacazes\n",
      "- Customer 48 is served. Nova Goitacazes\n",
      "- Customer 60 is served. Parque Bela Vista\n",
      "- Customer 80 is served. Parque Imperial\n",
      "- Customer 117 is served. Parque Tropical\n",
      "- Customer 119 is served. Parque Varanda do Visc.\n",
      "- Customer 124 is served. Parque do Prado\n",
      "- Customer 128 is served. Penha\n",
      "- Customer 131 is served. Poço Gordo - São Sebastião de Campos\n",
      "- Customer 132 is served. Pracinha I da Vila Romana\n",
      "- Customer 133 is served. Praça de Caxias De Tocos\n",
      "- Customer 152 is served. Tocaia\n",
      "- Customer 153 is served. Tocos\n",
      "- Customer 161 is served. Vila MANHÃES\n",
      "- Customer 164 is served. Vivendas Do Coqueiro\n",
      "Facility 5 is located. HOSP. TRAVESSÃO\n",
      "- Customer 13 is served. Conselheiro Josino\n",
      "- Customer 15 is served. Correnteza - Santo Eduardo\n",
      "- Customer 27 is served. Guandu\n",
      "- Customer 39 is served. Lagoa das Pedras - Travessão\n",
      "- Customer 90 is served. Parque Nova Canaã - KM10\n",
      "- Customer 138 is served. Ribeiro do Amaro - Travessão\n",
      "- Customer 140 is served. Santa Ana\n",
      "- Customer 143 is served. Santo Eduardo\n",
      "- Customer 154 is served. Travessão\n",
      "- Customer 162 is served. Vila Nova de Campos\n",
      "Facility 6 is located. PS GUARUS\n",
      "- Customer 33 is served. Jardim Carioca\n",
      "- Customer 54 is served. Parque Alvorada\n",
      "- Customer 64 is served. Parque Calabouco\n",
      "- Customer 65 is served. Parque Calabouço\n",
      "- Customer 104 is served. Parque Santo Antonio\n",
      "Facility 7 is located. SANDU\n",
      "- Customer 10 is served. Chácara João Ferreira\n",
      "- Customer 19 is served. ETA Martins Lage\n",
      "- Customer 23 is served. Estrada de Campo Novo\n",
      "- Customer 30 is served. Horto\n",
      "- Customer 31 is served. IPS\n",
      "- Customer 34 is served. Jardim Flamboyant I\n",
      "- Customer 35 is served. Jardim Flamboyant II\n",
      "- Customer 50 is served. Novo Jockey\n",
      "- Customer 55 is served. Parque Alzira Vargas\n",
      "- Customer 56 is served. Parque Aurora\n",
      "- Customer 61 is served. Parque Benta Pereira\n",
      "- Customer 66 is served. Parque California\n",
      "- Customer 67 is served. Parque Carlos de Lacerda\n",
      "- Customer 73 is served. Parque Dr. Beda\n",
      "- Customer 76 is served. Parque Fazenda Grande\n",
      "- Customer 82 is served. Parque Joao Maria\n",
      "- Customer 83 is served. Parque José do Patrocínio\n",
      "- Customer 84 is served. Parque João Seixas\n",
      "- Customer 86 is served. Parque Jóquei Club\n",
      "- Customer 88 is served. Parque Menezes\n",
      "- Customer 91 is served. Parque Oliveira Botelho\n",
      "- Customer 96 is served. Parque Riachuelo\n",
      "- Customer 97 is served. Parque Rosario\n",
      "- Customer 98 is served. Parque Rui Barbosa\n",
      "- Customer 99 is served. Parque Salo Brand\n",
      "- Customer 106 is served. Parque Sao Benedito\n",
      "- Customer 113 is served. Parque São Lino\n",
      "- Customer 116 is served. Parque Tarcisio Miranda\n",
      "- Customer 118 is served. Parque Turf Club\n",
      "- Customer 123 is served. Parque Vista Alegre\n",
      "- Customer 159 is served. Venda Nova\n",
      "- Customer 163 is served. Vila da Rainha\n",
      "Facility 8 is located. UBS Sartunino Braga\n",
      "- Customer 1 is served. Baixa Grande\n",
      "- Customer 2 is served. Boa Vista\n",
      "- Customer 3 is served. Caboio\n",
      "- Customer 7 is served. Campo Limpo\n",
      "- Customer 25 is served. Farol de São Thomé\n",
      "- Customer 44 is served. Mineiros\n",
      "- Customer 46 is served. Mussurepe\n",
      "- Customer 144 is served. Saturnino Braga\n",
      "- Customer 147 is served. São Martinho Santo Amaro de Campos\n",
      "- Customer 149 is served. São Sebastião De Campos\n",
      "Facility 10 is located. UPA\n",
      "- Customer 16 is served. Custodópolis\n",
      "- Customer 28 is served. Guarus\n",
      "- Customer 37 is served. Jardim Res. Planície\n",
      "- Customer 47 is served. Nova Campos\n",
      "- Customer 53 is served. Parque Aldeia\n",
      "- Customer 58 is served. Parque Bandeirantes\n",
      "- Customer 59 is served. Parque Barão do Rio Branco\n",
      "- Customer 62 is served. Parque Bonsucesso\n",
      "- Customer 68 is served. Parque Ceasa\n",
      "- Customer 69 is served. Parque Cidade Luz\n",
      "- Customer 78 is served. Parque Fundao\n",
      "- Customer 79 is served. Parque Guarus\n",
      "- Customer 89 is served. Parque Niterói\n",
      "- Customer 95 is served. Parque Pres. Vargas\n",
      "- Customer 100 is served. Parque Santa Clara\n",
      "- Customer 101 is served. Parque Santa Helena\n",
      "- Customer 107 is served. Parque Sao Domingos\n",
      "- Customer 108 is served. Parque Sao Jose\n",
      "- Customer 109 is served. Parque Sao Mateus\n",
      "- Customer 120 is served. Parque Vera Cruz\n",
      "- Customer 122 is served. Parque Visc. de Ururai\n",
      "- Customer 134 is served. Praça principal (quadra) do Lebret\n",
      "- Customer 137 is served. R. Novo Mundo - Parque Novo Mundo\n",
      "- Customer 155 is served. Três venda\n"
     ]
    }
   ],
   "source": [
    "# Lista contendo os resultado dos cenários\n",
    "results = []\n",
    "for scenario, weigts in scenarios.items():\n",
    "    p_median = allocation.Allocation(m, n, p, df_matrix, weigts)\n",
    "    p_median.solver()\n",
    "    res = p_median.get_result()\n",
    "    results.append({scenario:res})"
   ]
  },
  {
   "cell_type": "code",
   "execution_count": 11,
   "metadata": {},
   "outputs": [],
   "source": [
    "class GetResultPmedian:\n",
    "    def __init__(self, results):\n",
    "        self.results = results    \n",
    "    \n",
    "    def struct_results(self: list):\n",
    "        self.scenario_results = {}\n",
    "        self.open_facilities = {}\n",
    "        self.times = {}\n",
    "        stats = []\n",
    "        for res in self.results:\n",
    "            key, value = zip(*res.items())\n",
    "            self.open_facilities.update({key[0]:value[0][0]})\n",
    "            self.scenario_results.update({\n",
    "                key[0]:['\\n'.join(value[0][0])]\n",
    "            }) \n",
    "            stats.append(\n",
    "                pd.Series(value[0][1]).describe().reset_index().set_index('index').T\n",
    "            )\n",
    "            self.times.update({key:value[0][1]})\n",
    "        df_stats = pd.concat(stats, ignore_index=True)\n",
    "        df = pd.DataFrame(self.scenario_results).melt(var_name='Cenários', value_name='Bases')\n",
    "        return df.join(df_stats)\n",
    "    \n",
    "    def get_facilities_open(self):\n",
    "        structured_data_from_open_facilities = {key:[] for key in ['bases',*self.open_facilities.keys()]}\n",
    "        facilities = self._get_all_facilities()\n",
    "        structured_data_from_open_facilities['bases'].extend(facilities)\n",
    "        \n",
    "        for base in facilities:\n",
    "            for scenario, open_bases in self.open_facilities.items():\n",
    "                if base in open_bases:\n",
    "                    structured_data_from_open_facilities[scenario].append(1)  \n",
    "                else:\n",
    "                    structured_data_from_open_facilities[scenario].append(0) \n",
    "                \n",
    "        return pd.DataFrame(structured_data_from_open_facilities)\n",
    "    \n",
    "    def get_times(self):\n",
    "        return pd.DataFrame(self.times)\n",
    "    \n",
    "    def _get_all_facilities(self):\n",
    "        _,_,matrix = zip(*self.results[0].values())\n",
    "        return matrix[0].columns"
   ]
  },
  {
   "cell_type": "code",
   "execution_count": 12,
   "metadata": {},
   "outputs": [
    {
     "data": {
      "text/html": [
       "<div>\n",
       "<style scoped>\n",
       "    .dataframe tbody tr th:only-of-type {\n",
       "        vertical-align: middle;\n",
       "    }\n",
       "\n",
       "    .dataframe tbody tr th {\n",
       "        vertical-align: top;\n",
       "    }\n",
       "\n",
       "    .dataframe thead th {\n",
       "        text-align: right;\n",
       "    }\n",
       "</style>\n",
       "<table border=\"1\" class=\"dataframe\">\n",
       "  <thead>\n",
       "    <tr style=\"text-align: right;\">\n",
       "      <th></th>\n",
       "      <th>Cenários</th>\n",
       "      <th>Bases</th>\n",
       "      <th>count</th>\n",
       "      <th>mean</th>\n",
       "      <th>std</th>\n",
       "      <th>min</th>\n",
       "      <th>25%</th>\n",
       "      <th>50%</th>\n",
       "      <th>75%</th>\n",
       "      <th>max</th>\n",
       "    </tr>\n",
       "  </thead>\n",
       "  <tbody>\n",
       "    <tr>\n",
       "      <th>0</th>\n",
       "      <td>Não ponderado</td>\n",
       "      <td>DBM 1/5 GUARUS\\nHOSP. FERREIRA M\\nHOSP. SÃO JO...</td>\n",
       "      <td>165.0</td>\n",
       "      <td>673.963636</td>\n",
       "      <td>648.410626</td>\n",
       "      <td>0.0</td>\n",
       "      <td>315.0</td>\n",
       "      <td>450.0</td>\n",
       "      <td>712.0</td>\n",
       "      <td>3687.0</td>\n",
       "    </tr>\n",
       "    <tr>\n",
       "      <th>1</th>\n",
       "      <td>Ponderado</td>\n",
       "      <td>5 GBM\\nDBM 1/5 GUARUS\\nHOSP. FERREIRA M\\nHOSP....</td>\n",
       "      <td>165.0</td>\n",
       "      <td>781.290909</td>\n",
       "      <td>821.582063</td>\n",
       "      <td>43.0</td>\n",
       "      <td>307.0</td>\n",
       "      <td>453.0</td>\n",
       "      <td>880.0</td>\n",
       "      <td>4120.0</td>\n",
       "    </tr>\n",
       "  </tbody>\n",
       "</table>\n",
       "</div>"
      ],
      "text/plain": [
       "        Cenários                                              Bases  count  \\\n",
       "0  Não ponderado  DBM 1/5 GUARUS\\nHOSP. FERREIRA M\\nHOSP. SÃO JO...  165.0   \n",
       "1      Ponderado  5 GBM\\nDBM 1/5 GUARUS\\nHOSP. FERREIRA M\\nHOSP....  165.0   \n",
       "\n",
       "         mean         std   min    25%    50%    75%     max  \n",
       "0  673.963636  648.410626   0.0  315.0  450.0  712.0  3687.0  \n",
       "1  781.290909  821.582063  43.0  307.0  453.0  880.0  4120.0  "
      ]
     },
     "execution_count": 12,
     "metadata": {},
     "output_type": "execute_result"
    }
   ],
   "source": [
    "res_pmedian = GetResultPmedian(results)\n",
    "\n",
    "struct_results = res_pmedian.struct_results()\n",
    "struct_results.to_excel('cenarios.xlsx')    \n",
    "struct_results"
   ]
  },
  {
   "cell_type": "code",
   "execution_count": 13,
   "metadata": {},
   "outputs": [
    {
     "data": {
      "text/html": [
       "<div>\n",
       "<style scoped>\n",
       "    .dataframe tbody tr th:only-of-type {\n",
       "        vertical-align: middle;\n",
       "    }\n",
       "\n",
       "    .dataframe tbody tr th {\n",
       "        vertical-align: top;\n",
       "    }\n",
       "\n",
       "    .dataframe thead th {\n",
       "        text-align: right;\n",
       "    }\n",
       "</style>\n",
       "<table border=\"1\" class=\"dataframe\">\n",
       "  <thead>\n",
       "    <tr style=\"text-align: right;\">\n",
       "      <th></th>\n",
       "      <th>bases</th>\n",
       "      <th>Não ponderado</th>\n",
       "      <th>Ponderado</th>\n",
       "    </tr>\n",
       "  </thead>\n",
       "  <tbody>\n",
       "    <tr>\n",
       "      <th>0</th>\n",
       "      <td>5 GBM</td>\n",
       "      <td>0</td>\n",
       "      <td>1</td>\n",
       "    </tr>\n",
       "    <tr>\n",
       "      <th>1</th>\n",
       "      <td>DBM 1/5 GUARUS</td>\n",
       "      <td>1</td>\n",
       "      <td>1</td>\n",
       "    </tr>\n",
       "    <tr>\n",
       "      <th>2</th>\n",
       "      <td>HOSP. FERREIRA M</td>\n",
       "      <td>1</td>\n",
       "      <td>1</td>\n",
       "    </tr>\n",
       "    <tr>\n",
       "      <th>3</th>\n",
       "      <td>HOSP. G. GUARUS</td>\n",
       "      <td>0</td>\n",
       "      <td>0</td>\n",
       "    </tr>\n",
       "    <tr>\n",
       "      <th>4</th>\n",
       "      <td>HOSP. SÃO JOSÉ</td>\n",
       "      <td>1</td>\n",
       "      <td>1</td>\n",
       "    </tr>\n",
       "    <tr>\n",
       "      <th>5</th>\n",
       "      <td>HOSP. TRAVESSÃO</td>\n",
       "      <td>1</td>\n",
       "      <td>1</td>\n",
       "    </tr>\n",
       "    <tr>\n",
       "      <th>6</th>\n",
       "      <td>PS GUARUS</td>\n",
       "      <td>0</td>\n",
       "      <td>1</td>\n",
       "    </tr>\n",
       "    <tr>\n",
       "      <th>7</th>\n",
       "      <td>SANDU</td>\n",
       "      <td>1</td>\n",
       "      <td>1</td>\n",
       "    </tr>\n",
       "    <tr>\n",
       "      <th>8</th>\n",
       "      <td>UBS Sartunino Braga</td>\n",
       "      <td>1</td>\n",
       "      <td>1</td>\n",
       "    </tr>\n",
       "    <tr>\n",
       "      <th>9</th>\n",
       "      <td>UBS TOCOS</td>\n",
       "      <td>1</td>\n",
       "      <td>0</td>\n",
       "    </tr>\n",
       "    <tr>\n",
       "      <th>10</th>\n",
       "      <td>UPA</td>\n",
       "      <td>1</td>\n",
       "      <td>1</td>\n",
       "    </tr>\n",
       "    <tr>\n",
       "      <th>11</th>\n",
       "      <td>UPH F. SÃO THOMÉ</td>\n",
       "      <td>0</td>\n",
       "      <td>0</td>\n",
       "    </tr>\n",
       "    <tr>\n",
       "      <th>12</th>\n",
       "      <td>UPH MORRO DO COCO</td>\n",
       "      <td>0</td>\n",
       "      <td>0</td>\n",
       "    </tr>\n",
       "    <tr>\n",
       "      <th>13</th>\n",
       "      <td>UPH ST EDUARDO</td>\n",
       "      <td>1</td>\n",
       "      <td>0</td>\n",
       "    </tr>\n",
       "  </tbody>\n",
       "</table>\n",
       "</div>"
      ],
      "text/plain": [
       "                  bases  Não ponderado  Ponderado\n",
       "0                 5 GBM              0          1\n",
       "1        DBM 1/5 GUARUS              1          1\n",
       "2      HOSP. FERREIRA M              1          1\n",
       "3       HOSP. G. GUARUS              0          0\n",
       "4        HOSP. SÃO JOSÉ              1          1\n",
       "5       HOSP. TRAVESSÃO              1          1\n",
       "6             PS GUARUS              0          1\n",
       "7                 SANDU              1          1\n",
       "8   UBS Sartunino Braga              1          1\n",
       "9             UBS TOCOS              1          0\n",
       "10                  UPA              1          1\n",
       "11     UPH F. SÃO THOMÉ              0          0\n",
       "12    UPH MORRO DO COCO              0          0\n",
       "13       UPH ST EDUARDO              1          0"
      ]
     },
     "execution_count": 13,
     "metadata": {},
     "output_type": "execute_result"
    }
   ],
   "source": [
    "facilities_open = res_pmedian.get_facilities_open()\n",
    "facilities_open.to_excel('bases_abertas.xlsx')  \n",
    "facilities_open   "
   ]
  },
  {
   "cell_type": "code",
   "execution_count": 14,
   "metadata": {},
   "outputs": [
    {
     "data": {
      "application/vnd.plotly.v1+json": {
       "config": {
        "plotlyServerURL": "https://plot.ly"
       },
       "data": [
        {
         "alignmentgroup": "True",
         "hovertemplate": "Cenario=Não ponderado<br>Tempo de deslocamento (s)=%{x}<extra></extra>",
         "legendgroup": "",
         "marker": {
          "color": "rgb(76,114,176)"
         },
         "name": "",
         "notched": false,
         "offsetgroup": "",
         "orientation": "h",
         "showlegend": false,
         "type": "box",
         "x": [
          166,
          447,
          421,
          335,
          311,
          516,
          550,
          273,
          453,
          332,
          272,
          223,
          150,
          1360,
          3157,
          2286,
          1784,
          326,
          2423,
          3489,
          1577,
          310,
          382,
          569,
          315,
          442,
          425,
          609,
          388,
          511,
          295,
          526,
          477,
          517,
          442,
          334,
          374,
          353,
          326,
          2223,
          1466,
          2242,
          2655,
          2401,
          928,
          177,
          1026,
          3687,
          1184,
          855,
          527,
          1107,
          261,
          679,
          365,
          151,
          539,
          578,
          450,
          473,
          674,
          817,
          730,
          596,
          292,
          974,
          617,
          1204,
          1815,
          880,
          546,
          801,
          919,
          477,
          841,
          995,
          700,
          46,
          1425,
          249,
          216,
          742,
          146,
          1292,
          317,
          516,
          296,
          307,
          279,
          683,
          376,
          500,
          425,
          203,
          461,
          567,
          393,
          146,
          433,
          444,
          374,
          436,
          994,
          147,
          208,
          527,
          690,
          227,
          659,
          648,
          539,
          183,
          386,
          146,
          1533,
          671,
          655,
          1186,
          1025,
          547,
          1016,
          1668,
          1352,
          296,
          411,
          43,
          1319,
          712,
          426,
          349,
          0,
          247,
          171,
          420,
          482,
          247,
          379,
          401,
          308,
          404,
          123,
          319,
          319,
          389,
          450,
          262,
          171,
          216,
          667,
          186,
          375,
          348,
          346,
          469,
          399,
          235,
          433,
          488,
          451,
          232,
          381,
          1418,
          2736,
          599,
          0
         ],
         "x0": " ",
         "xaxis": "x2",
         "y0": " ",
         "yaxis": "y2"
        },
        {
         "alignmentgroup": "True",
         "hovertemplate": "Cenario=Ponderado<br>Tempo de deslocamento (s)=%{x}<extra></extra>",
         "legendgroup": "",
         "marker": {
          "color": "rgb(76,114,176)"
         },
         "name": "",
         "notched": false,
         "offsetgroup": "",
         "orientation": "h",
         "showlegend": false,
         "type": "box",
         "x": [
          1281,
          2049,
          224,
          3141,
          2475,
          122,
          220,
          3702,
          1944,
          122,
          398,
          203,
          122,
          4120,
          2181,
          1204,
          541,
          166,
          447,
          421,
          335,
          311,
          516,
          550,
          273,
          453,
          272,
          223,
          150,
          1360,
          3157,
          2286,
          1784,
          326,
          2423,
          3489,
          1577,
          310,
          382,
          569,
          315,
          442,
          425,
          609,
          388,
          511,
          295,
          526,
          477,
          517,
          442,
          334,
          374,
          353,
          326,
          2223,
          1466,
          2242,
          2655,
          2401,
          928,
          177,
          1026,
          3687,
          1184,
          527,
          1231,
          261,
          679,
          365,
          151,
          539,
          578,
          450,
          473,
          674,
          817,
          730,
          596,
          1153,
          292,
          1017,
          974,
          617,
          880,
          3190,
          546,
          801,
          477,
          841,
          995,
          3280,
          46,
          1425,
          124,
          174,
          289,
          289,
          249,
          216,
          742,
          1292,
          317,
          516,
          296,
          307,
          683,
          376,
          500,
          425,
          203,
          461,
          567,
          393,
          433,
          444,
          374,
          436,
          994,
          147,
          208,
          527,
          690,
          227,
          659,
          648,
          539,
          183,
          386,
          1533,
          671,
          655,
          1186,
          1025,
          547,
          1668,
          296,
          411,
          43,
          1319,
          712,
          247,
          171,
          482,
          247,
          379,
          308,
          404,
          123,
          389,
          450,
          262,
          171,
          216,
          186,
          375,
          348,
          469,
          399,
          235,
          433,
          451,
          232,
          381,
          1418
         ],
         "x0": " ",
         "xaxis": "x",
         "y0": " ",
         "yaxis": "y"
        }
       ],
       "layout": {
        "annotations": [
         {
          "font": {},
          "showarrow": false,
          "text": "Cenario=Ponderado",
          "textangle": 90,
          "x": 0.98,
          "xanchor": "left",
          "xref": "paper",
          "y": 0.2425,
          "yanchor": "middle",
          "yref": "paper"
         },
         {
          "font": {},
          "showarrow": false,
          "text": "Cenario=Não ponderado",
          "textangle": 90,
          "x": 0.98,
          "xanchor": "left",
          "xref": "paper",
          "y": 0.7575000000000001,
          "yanchor": "middle",
          "yref": "paper"
         }
        ],
        "boxmode": "group",
        "height": 600,
        "legend": {
         "tracegroupgap": 0
        },
        "template": {
         "data": {
          "bar": [
           {
            "error_x": {
             "color": "rgb(36,36,36)"
            },
            "error_y": {
             "color": "rgb(36,36,36)"
            },
            "marker": {
             "line": {
              "color": "rgb(234,234,242)",
              "width": 0.5
             },
             "pattern": {
              "fillmode": "overlay",
              "size": 10,
              "solidity": 0.2
             }
            },
            "type": "bar"
           }
          ],
          "barpolar": [
           {
            "marker": {
             "line": {
              "color": "rgb(234,234,242)",
              "width": 0.5
             },
             "pattern": {
              "fillmode": "overlay",
              "size": 10,
              "solidity": 0.2
             }
            },
            "type": "barpolar"
           }
          ],
          "carpet": [
           {
            "aaxis": {
             "endlinecolor": "rgb(36,36,36)",
             "gridcolor": "white",
             "linecolor": "white",
             "minorgridcolor": "white",
             "startlinecolor": "rgb(36,36,36)"
            },
            "baxis": {
             "endlinecolor": "rgb(36,36,36)",
             "gridcolor": "white",
             "linecolor": "white",
             "minorgridcolor": "white",
             "startlinecolor": "rgb(36,36,36)"
            },
            "type": "carpet"
           }
          ],
          "choropleth": [
           {
            "colorbar": {
             "outlinewidth": 0,
             "tickcolor": "rgb(36,36,36)",
             "ticklen": 8,
             "ticks": "outside",
             "tickwidth": 2
            },
            "type": "choropleth"
           }
          ],
          "contour": [
           {
            "colorbar": {
             "outlinewidth": 0,
             "tickcolor": "rgb(36,36,36)",
             "ticklen": 8,
             "ticks": "outside",
             "tickwidth": 2
            },
            "colorscale": [
             [
              0,
              "rgb(2,4,25)"
             ],
             [
              0.06274509803921569,
              "rgb(24,15,41)"
             ],
             [
              0.12549019607843137,
              "rgb(47,23,57)"
             ],
             [
              0.18823529411764706,
              "rgb(71,28,72)"
             ],
             [
              0.25098039215686274,
              "rgb(97,30,82)"
             ],
             [
              0.3137254901960784,
              "rgb(123,30,89)"
             ],
             [
              0.3764705882352941,
              "rgb(150,27,91)"
             ],
             [
              0.4392156862745098,
              "rgb(177,22,88)"
             ],
             [
              0.5019607843137255,
              "rgb(203,26,79)"
             ],
             [
              0.5647058823529412,
              "rgb(223,47,67)"
             ],
             [
              0.6274509803921569,
              "rgb(236,76,61)"
             ],
             [
              0.6901960784313725,
              "rgb(242,107,73)"
             ],
             [
              0.7529411764705882,
              "rgb(244,135,95)"
             ],
             [
              0.8156862745098039,
              "rgb(245,162,122)"
             ],
             [
              0.8784313725490196,
              "rgb(246,188,153)"
             ],
             [
              0.9411764705882353,
              "rgb(247,212,187)"
             ],
             [
              1,
              "rgb(250,234,220)"
             ]
            ],
            "type": "contour"
           }
          ],
          "contourcarpet": [
           {
            "colorbar": {
             "outlinewidth": 0,
             "tickcolor": "rgb(36,36,36)",
             "ticklen": 8,
             "ticks": "outside",
             "tickwidth": 2
            },
            "type": "contourcarpet"
           }
          ],
          "heatmap": [
           {
            "colorbar": {
             "outlinewidth": 0,
             "tickcolor": "rgb(36,36,36)",
             "ticklen": 8,
             "ticks": "outside",
             "tickwidth": 2
            },
            "colorscale": [
             [
              0,
              "rgb(2,4,25)"
             ],
             [
              0.06274509803921569,
              "rgb(24,15,41)"
             ],
             [
              0.12549019607843137,
              "rgb(47,23,57)"
             ],
             [
              0.18823529411764706,
              "rgb(71,28,72)"
             ],
             [
              0.25098039215686274,
              "rgb(97,30,82)"
             ],
             [
              0.3137254901960784,
              "rgb(123,30,89)"
             ],
             [
              0.3764705882352941,
              "rgb(150,27,91)"
             ],
             [
              0.4392156862745098,
              "rgb(177,22,88)"
             ],
             [
              0.5019607843137255,
              "rgb(203,26,79)"
             ],
             [
              0.5647058823529412,
              "rgb(223,47,67)"
             ],
             [
              0.6274509803921569,
              "rgb(236,76,61)"
             ],
             [
              0.6901960784313725,
              "rgb(242,107,73)"
             ],
             [
              0.7529411764705882,
              "rgb(244,135,95)"
             ],
             [
              0.8156862745098039,
              "rgb(245,162,122)"
             ],
             [
              0.8784313725490196,
              "rgb(246,188,153)"
             ],
             [
              0.9411764705882353,
              "rgb(247,212,187)"
             ],
             [
              1,
              "rgb(250,234,220)"
             ]
            ],
            "type": "heatmap"
           }
          ],
          "heatmapgl": [
           {
            "colorbar": {
             "outlinewidth": 0,
             "tickcolor": "rgb(36,36,36)",
             "ticklen": 8,
             "ticks": "outside",
             "tickwidth": 2
            },
            "colorscale": [
             [
              0,
              "rgb(2,4,25)"
             ],
             [
              0.06274509803921569,
              "rgb(24,15,41)"
             ],
             [
              0.12549019607843137,
              "rgb(47,23,57)"
             ],
             [
              0.18823529411764706,
              "rgb(71,28,72)"
             ],
             [
              0.25098039215686274,
              "rgb(97,30,82)"
             ],
             [
              0.3137254901960784,
              "rgb(123,30,89)"
             ],
             [
              0.3764705882352941,
              "rgb(150,27,91)"
             ],
             [
              0.4392156862745098,
              "rgb(177,22,88)"
             ],
             [
              0.5019607843137255,
              "rgb(203,26,79)"
             ],
             [
              0.5647058823529412,
              "rgb(223,47,67)"
             ],
             [
              0.6274509803921569,
              "rgb(236,76,61)"
             ],
             [
              0.6901960784313725,
              "rgb(242,107,73)"
             ],
             [
              0.7529411764705882,
              "rgb(244,135,95)"
             ],
             [
              0.8156862745098039,
              "rgb(245,162,122)"
             ],
             [
              0.8784313725490196,
              "rgb(246,188,153)"
             ],
             [
              0.9411764705882353,
              "rgb(247,212,187)"
             ],
             [
              1,
              "rgb(250,234,220)"
             ]
            ],
            "type": "heatmapgl"
           }
          ],
          "histogram": [
           {
            "marker": {
             "pattern": {
              "fillmode": "overlay",
              "size": 10,
              "solidity": 0.2
             }
            },
            "type": "histogram"
           }
          ],
          "histogram2d": [
           {
            "colorbar": {
             "outlinewidth": 0,
             "tickcolor": "rgb(36,36,36)",
             "ticklen": 8,
             "ticks": "outside",
             "tickwidth": 2
            },
            "colorscale": [
             [
              0,
              "rgb(2,4,25)"
             ],
             [
              0.06274509803921569,
              "rgb(24,15,41)"
             ],
             [
              0.12549019607843137,
              "rgb(47,23,57)"
             ],
             [
              0.18823529411764706,
              "rgb(71,28,72)"
             ],
             [
              0.25098039215686274,
              "rgb(97,30,82)"
             ],
             [
              0.3137254901960784,
              "rgb(123,30,89)"
             ],
             [
              0.3764705882352941,
              "rgb(150,27,91)"
             ],
             [
              0.4392156862745098,
              "rgb(177,22,88)"
             ],
             [
              0.5019607843137255,
              "rgb(203,26,79)"
             ],
             [
              0.5647058823529412,
              "rgb(223,47,67)"
             ],
             [
              0.6274509803921569,
              "rgb(236,76,61)"
             ],
             [
              0.6901960784313725,
              "rgb(242,107,73)"
             ],
             [
              0.7529411764705882,
              "rgb(244,135,95)"
             ],
             [
              0.8156862745098039,
              "rgb(245,162,122)"
             ],
             [
              0.8784313725490196,
              "rgb(246,188,153)"
             ],
             [
              0.9411764705882353,
              "rgb(247,212,187)"
             ],
             [
              1,
              "rgb(250,234,220)"
             ]
            ],
            "type": "histogram2d"
           }
          ],
          "histogram2dcontour": [
           {
            "colorbar": {
             "outlinewidth": 0,
             "tickcolor": "rgb(36,36,36)",
             "ticklen": 8,
             "ticks": "outside",
             "tickwidth": 2
            },
            "colorscale": [
             [
              0,
              "rgb(2,4,25)"
             ],
             [
              0.06274509803921569,
              "rgb(24,15,41)"
             ],
             [
              0.12549019607843137,
              "rgb(47,23,57)"
             ],
             [
              0.18823529411764706,
              "rgb(71,28,72)"
             ],
             [
              0.25098039215686274,
              "rgb(97,30,82)"
             ],
             [
              0.3137254901960784,
              "rgb(123,30,89)"
             ],
             [
              0.3764705882352941,
              "rgb(150,27,91)"
             ],
             [
              0.4392156862745098,
              "rgb(177,22,88)"
             ],
             [
              0.5019607843137255,
              "rgb(203,26,79)"
             ],
             [
              0.5647058823529412,
              "rgb(223,47,67)"
             ],
             [
              0.6274509803921569,
              "rgb(236,76,61)"
             ],
             [
              0.6901960784313725,
              "rgb(242,107,73)"
             ],
             [
              0.7529411764705882,
              "rgb(244,135,95)"
             ],
             [
              0.8156862745098039,
              "rgb(245,162,122)"
             ],
             [
              0.8784313725490196,
              "rgb(246,188,153)"
             ],
             [
              0.9411764705882353,
              "rgb(247,212,187)"
             ],
             [
              1,
              "rgb(250,234,220)"
             ]
            ],
            "type": "histogram2dcontour"
           }
          ],
          "mesh3d": [
           {
            "colorbar": {
             "outlinewidth": 0,
             "tickcolor": "rgb(36,36,36)",
             "ticklen": 8,
             "ticks": "outside",
             "tickwidth": 2
            },
            "type": "mesh3d"
           }
          ],
          "parcoords": [
           {
            "line": {
             "colorbar": {
              "outlinewidth": 0,
              "tickcolor": "rgb(36,36,36)",
              "ticklen": 8,
              "ticks": "outside",
              "tickwidth": 2
             }
            },
            "type": "parcoords"
           }
          ],
          "pie": [
           {
            "automargin": true,
            "type": "pie"
           }
          ],
          "scatter": [
           {
            "fillpattern": {
             "fillmode": "overlay",
             "size": 10,
             "solidity": 0.2
            },
            "type": "scatter"
           }
          ],
          "scatter3d": [
           {
            "line": {
             "colorbar": {
              "outlinewidth": 0,
              "tickcolor": "rgb(36,36,36)",
              "ticklen": 8,
              "ticks": "outside",
              "tickwidth": 2
             }
            },
            "marker": {
             "colorbar": {
              "outlinewidth": 0,
              "tickcolor": "rgb(36,36,36)",
              "ticklen": 8,
              "ticks": "outside",
              "tickwidth": 2
             }
            },
            "type": "scatter3d"
           }
          ],
          "scattercarpet": [
           {
            "marker": {
             "colorbar": {
              "outlinewidth": 0,
              "tickcolor": "rgb(36,36,36)",
              "ticklen": 8,
              "ticks": "outside",
              "tickwidth": 2
             }
            },
            "type": "scattercarpet"
           }
          ],
          "scattergeo": [
           {
            "marker": {
             "colorbar": {
              "outlinewidth": 0,
              "tickcolor": "rgb(36,36,36)",
              "ticklen": 8,
              "ticks": "outside",
              "tickwidth": 2
             }
            },
            "type": "scattergeo"
           }
          ],
          "scattergl": [
           {
            "marker": {
             "colorbar": {
              "outlinewidth": 0,
              "tickcolor": "rgb(36,36,36)",
              "ticklen": 8,
              "ticks": "outside",
              "tickwidth": 2
             }
            },
            "type": "scattergl"
           }
          ],
          "scattermapbox": [
           {
            "marker": {
             "colorbar": {
              "outlinewidth": 0,
              "tickcolor": "rgb(36,36,36)",
              "ticklen": 8,
              "ticks": "outside",
              "tickwidth": 2
             }
            },
            "type": "scattermapbox"
           }
          ],
          "scatterpolar": [
           {
            "marker": {
             "colorbar": {
              "outlinewidth": 0,
              "tickcolor": "rgb(36,36,36)",
              "ticklen": 8,
              "ticks": "outside",
              "tickwidth": 2
             }
            },
            "type": "scatterpolar"
           }
          ],
          "scatterpolargl": [
           {
            "marker": {
             "colorbar": {
              "outlinewidth": 0,
              "tickcolor": "rgb(36,36,36)",
              "ticklen": 8,
              "ticks": "outside",
              "tickwidth": 2
             }
            },
            "type": "scatterpolargl"
           }
          ],
          "scatterternary": [
           {
            "marker": {
             "colorbar": {
              "outlinewidth": 0,
              "tickcolor": "rgb(36,36,36)",
              "ticklen": 8,
              "ticks": "outside",
              "tickwidth": 2
             }
            },
            "type": "scatterternary"
           }
          ],
          "surface": [
           {
            "colorbar": {
             "outlinewidth": 0,
             "tickcolor": "rgb(36,36,36)",
             "ticklen": 8,
             "ticks": "outside",
             "tickwidth": 2
            },
            "colorscale": [
             [
              0,
              "rgb(2,4,25)"
             ],
             [
              0.06274509803921569,
              "rgb(24,15,41)"
             ],
             [
              0.12549019607843137,
              "rgb(47,23,57)"
             ],
             [
              0.18823529411764706,
              "rgb(71,28,72)"
             ],
             [
              0.25098039215686274,
              "rgb(97,30,82)"
             ],
             [
              0.3137254901960784,
              "rgb(123,30,89)"
             ],
             [
              0.3764705882352941,
              "rgb(150,27,91)"
             ],
             [
              0.4392156862745098,
              "rgb(177,22,88)"
             ],
             [
              0.5019607843137255,
              "rgb(203,26,79)"
             ],
             [
              0.5647058823529412,
              "rgb(223,47,67)"
             ],
             [
              0.6274509803921569,
              "rgb(236,76,61)"
             ],
             [
              0.6901960784313725,
              "rgb(242,107,73)"
             ],
             [
              0.7529411764705882,
              "rgb(244,135,95)"
             ],
             [
              0.8156862745098039,
              "rgb(245,162,122)"
             ],
             [
              0.8784313725490196,
              "rgb(246,188,153)"
             ],
             [
              0.9411764705882353,
              "rgb(247,212,187)"
             ],
             [
              1,
              "rgb(250,234,220)"
             ]
            ],
            "type": "surface"
           }
          ],
          "table": [
           {
            "cells": {
             "fill": {
              "color": "rgb(231,231,240)"
             },
             "line": {
              "color": "white"
             }
            },
            "header": {
             "fill": {
              "color": "rgb(183,183,191)"
             },
             "line": {
              "color": "white"
             }
            },
            "type": "table"
           }
          ]
         },
         "layout": {
          "annotationdefaults": {
           "arrowcolor": "rgb(67,103,167)"
          },
          "autotypenumbers": "strict",
          "coloraxis": {
           "colorbar": {
            "outlinewidth": 0,
            "tickcolor": "rgb(36,36,36)",
            "ticklen": 8,
            "ticks": "outside",
            "tickwidth": 2
           }
          },
          "colorscale": {
           "sequential": [
            [
             0,
             "rgb(2,4,25)"
            ],
            [
             0.06274509803921569,
             "rgb(24,15,41)"
            ],
            [
             0.12549019607843137,
             "rgb(47,23,57)"
            ],
            [
             0.18823529411764706,
             "rgb(71,28,72)"
            ],
            [
             0.25098039215686274,
             "rgb(97,30,82)"
            ],
            [
             0.3137254901960784,
             "rgb(123,30,89)"
            ],
            [
             0.3764705882352941,
             "rgb(150,27,91)"
            ],
            [
             0.4392156862745098,
             "rgb(177,22,88)"
            ],
            [
             0.5019607843137255,
             "rgb(203,26,79)"
            ],
            [
             0.5647058823529412,
             "rgb(223,47,67)"
            ],
            [
             0.6274509803921569,
             "rgb(236,76,61)"
            ],
            [
             0.6901960784313725,
             "rgb(242,107,73)"
            ],
            [
             0.7529411764705882,
             "rgb(244,135,95)"
            ],
            [
             0.8156862745098039,
             "rgb(245,162,122)"
            ],
            [
             0.8784313725490196,
             "rgb(246,188,153)"
            ],
            [
             0.9411764705882353,
             "rgb(247,212,187)"
            ],
            [
             1,
             "rgb(250,234,220)"
            ]
           ],
           "sequentialminus": [
            [
             0,
             "rgb(2,4,25)"
            ],
            [
             0.06274509803921569,
             "rgb(24,15,41)"
            ],
            [
             0.12549019607843137,
             "rgb(47,23,57)"
            ],
            [
             0.18823529411764706,
             "rgb(71,28,72)"
            ],
            [
             0.25098039215686274,
             "rgb(97,30,82)"
            ],
            [
             0.3137254901960784,
             "rgb(123,30,89)"
            ],
            [
             0.3764705882352941,
             "rgb(150,27,91)"
            ],
            [
             0.4392156862745098,
             "rgb(177,22,88)"
            ],
            [
             0.5019607843137255,
             "rgb(203,26,79)"
            ],
            [
             0.5647058823529412,
             "rgb(223,47,67)"
            ],
            [
             0.6274509803921569,
             "rgb(236,76,61)"
            ],
            [
             0.6901960784313725,
             "rgb(242,107,73)"
            ],
            [
             0.7529411764705882,
             "rgb(244,135,95)"
            ],
            [
             0.8156862745098039,
             "rgb(245,162,122)"
            ],
            [
             0.8784313725490196,
             "rgb(246,188,153)"
            ],
            [
             0.9411764705882353,
             "rgb(247,212,187)"
            ],
            [
             1,
             "rgb(250,234,220)"
            ]
           ]
          },
          "colorway": [
           "rgb(76,114,176)",
           "rgb(221,132,82)",
           "rgb(85,168,104)",
           "rgb(196,78,82)",
           "rgb(129,114,179)",
           "rgb(147,120,96)",
           "rgb(218,139,195)",
           "rgb(140,140,140)",
           "rgb(204,185,116)",
           "rgb(100,181,205)"
          ],
          "font": {
           "color": "rgb(36,36,36)"
          },
          "geo": {
           "bgcolor": "white",
           "lakecolor": "white",
           "landcolor": "rgb(234,234,242)",
           "showlakes": true,
           "showland": true,
           "subunitcolor": "white"
          },
          "hoverlabel": {
           "align": "left"
          },
          "hovermode": "closest",
          "paper_bgcolor": "white",
          "plot_bgcolor": "rgb(234,234,242)",
          "polar": {
           "angularaxis": {
            "gridcolor": "white",
            "linecolor": "white",
            "showgrid": true,
            "ticks": ""
           },
           "bgcolor": "rgb(234,234,242)",
           "radialaxis": {
            "gridcolor": "white",
            "linecolor": "white",
            "showgrid": true,
            "ticks": ""
           }
          },
          "scene": {
           "xaxis": {
            "backgroundcolor": "rgb(234,234,242)",
            "gridcolor": "white",
            "gridwidth": 2,
            "linecolor": "white",
            "showbackground": true,
            "showgrid": true,
            "ticks": "",
            "zerolinecolor": "white"
           },
           "yaxis": {
            "backgroundcolor": "rgb(234,234,242)",
            "gridcolor": "white",
            "gridwidth": 2,
            "linecolor": "white",
            "showbackground": true,
            "showgrid": true,
            "ticks": "",
            "zerolinecolor": "white"
           },
           "zaxis": {
            "backgroundcolor": "rgb(234,234,242)",
            "gridcolor": "white",
            "gridwidth": 2,
            "linecolor": "white",
            "showbackground": true,
            "showgrid": true,
            "ticks": "",
            "zerolinecolor": "white"
           }
          },
          "shapedefaults": {
           "fillcolor": "rgb(67,103,167)",
           "line": {
            "width": 0
           },
           "opacity": 0.5
          },
          "ternary": {
           "aaxis": {
            "gridcolor": "white",
            "linecolor": "white",
            "showgrid": true,
            "ticks": ""
           },
           "baxis": {
            "gridcolor": "white",
            "linecolor": "white",
            "showgrid": true,
            "ticks": ""
           },
           "bgcolor": "rgb(234,234,242)",
           "caxis": {
            "gridcolor": "white",
            "linecolor": "white",
            "showgrid": true,
            "ticks": ""
           }
          },
          "xaxis": {
           "automargin": true,
           "gridcolor": "white",
           "linecolor": "white",
           "showgrid": true,
           "ticks": "",
           "title": {
            "standoff": 15
           },
           "zerolinecolor": "white"
          },
          "yaxis": {
           "automargin": true,
           "gridcolor": "white",
           "linecolor": "white",
           "showgrid": true,
           "ticks": "",
           "title": {
            "standoff": 15
           },
           "zerolinecolor": "white"
          }
         }
        },
        "title": {
         "text": "Tempo de deslocamento - segundos"
        },
        "width": 800,
        "xaxis": {
         "anchor": "y",
         "domain": [
          0,
          0.98
         ],
         "title": {
          "text": "Tempo de deslocamento (s)"
         }
        },
        "xaxis2": {
         "anchor": "y2",
         "domain": [
          0,
          0.98
         ],
         "matches": "x",
         "showticklabels": false
        },
        "yaxis": {
         "anchor": "x",
         "domain": [
          0,
          0.485
         ]
        },
        "yaxis2": {
         "anchor": "x2",
         "domain": [
          0.515,
          1
         ],
         "matches": "y"
        }
       }
      }
     },
     "metadata": {},
     "output_type": "display_data"
    }
   ],
   "source": [
    "fig = px.box(\n",
    "    res_pmedian.get_times().melt(var_name='Cenario'),\n",
    "    x='value',\n",
    "    facet_row='Cenario',\n",
    "    title='Tempo de deslocamento - segundos',\n",
    "    labels={'value':'Tempo de deslocamento (s)'},\n",
    "    height=600,\n",
    "    width=800,\n",
    ")\n",
    "fig.show()\n",
    "\n",
    "# Alterar os nomes dos subgráficos\n",
    "# fig.for_each_annotation(lambda name: name.update(text=name.text.replace(\"variable=\", \"\")))\n",
    "fig.write_image(\"boxplot.svg\")\n",
    " \n"
   ]
  },
  {
   "cell_type": "code",
   "execution_count": 5,
   "metadata": {},
   "outputs": [
    {
     "name": "stdout",
     "output_type": "stream",
     "text": [
      "Note: you may need to restart the kernel to use updated packages.\n"
     ]
    },
    {
     "name": "stderr",
     "output_type": "stream",
     "text": [
      "ERROR: Could not open requirements file: [Errno 2] No such file or directory: \"'requirements.txt'\"\n",
      "\n",
      "[notice] A new release of pip is available: 23.2.1 -> 23.3.2\n",
      "[notice] To update, run: python.exe -m pip install --upgrade pip\n"
     ]
    }
   ],
   "source": [
    "%pip install -r 'requirements.txt'"
   ]
  }
 ],
 "metadata": {
  "kernelspec": {
   "display_name": "env",
   "language": "python",
   "name": "python3"
  },
  "language_info": {
   "codemirror_mode": {
    "name": "ipython",
    "version": 3
   },
   "file_extension": ".py",
   "mimetype": "text/x-python",
   "name": "python",
   "nbconvert_exporter": "python",
   "pygments_lexer": "ipython3",
   "version": "3.11.7"
  }
 },
 "nbformat": 4,
 "nbformat_minor": 2
}
